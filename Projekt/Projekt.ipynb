{
 "cells": [
  {
   "cell_type": "code",
   "execution_count": 3,
   "id": "initial_id",
   "metadata": {
    "ExecuteTime": {
     "end_time": "2023-11-13T15:11:38.364459800Z",
     "start_time": "2023-11-13T15:11:37.409291100Z"
    },
    "collapsed": true
   },
   "outputs": [],
   "source": [
    "import pandas as pd\n",
    "import matplotlib.pyplot as plt\n",
    "import seaborn as sns\n",
    "import plotly.express as px\n",
    "\n",
    "\n",
    "noc_region_df = pd.read_csv('../Data/noc_regions.csv')\n",
    "athlete_events_df = pd.read_csv('../Data/athlete_events.csv')\n",
    "\n",
    "merged_df = pd.merge(athlete_events_df, noc_region_df, how='inner', on='NOC')"
   ]
  },
  {
   "cell_type": "code",
   "execution_count": 4,
   "id": "349320e74a2dee51",
   "metadata": {
    "ExecuteTime": {
     "end_time": "2023-11-13T15:12:17.951799700Z",
     "start_time": "2023-11-13T15:12:17.119653400Z"
    },
    "collapsed": false
   },
   "outputs": [
    {
     "name": "stdout",
     "output_type": "stream",
     "text": [
      "a. total countries in the dataset: 205\n"
     ]
    }
   ],
   "source": [
    "# a. hur många länder som är med i datan?\n",
    "num_countries = merged_df['region'].nunique()\n",
    "print(f'a. total countries in the dataset: {num_countries}')"
   ]
  },
  {
   "cell_type": "code",
   "execution_count": 5,
   "id": "d395f229b3d7c5dd",
   "metadata": {
    "ExecuteTime": {
     "end_time": "2023-11-13T15:11:01.581028500Z",
     "start_time": "2023-11-13T15:11:00.607857300Z"
    },
    "collapsed": false
   },
   "outputs": [
    {
     "name": "stdout",
     "output_type": "stream",
     "text": [
      "b. Vilka länder är med? ['China' 'Denmark' 'Netherlands' 'USA' 'Finland' 'Norway' 'Romania'\n",
      " 'Estonia' 'France' 'Morocco' 'Spain' 'Egypt' 'Iran' 'Bulgaria' 'Italy'\n",
      " 'Chad' 'Azerbaijan' 'Sudan' 'Russia' 'Argentina' 'Cuba' 'Belarus'\n",
      " 'Greece' 'Cameroon' 'Turkey' 'Chile' 'Mexico' 'Nicaragua' 'Hungary'\n",
      " 'Nigeria' 'Algeria' 'Kuwait' 'Bahrain' 'Pakistan' 'Iraq' 'Syria'\n",
      " 'Lebanon' 'Qatar' 'Malaysia' 'Germany' 'Canada' 'Ireland' 'Australia'\n",
      " 'South Africa' 'Eritrea' 'Tanzania' 'Jordan' 'Tunisia' 'Libya' 'Belgium'\n",
      " 'Djibouti' 'Palestine' 'Comoros' 'Kazakhstan' 'Brunei' 'India'\n",
      " 'Saudi Arabia' 'Maldives' 'Ethiopia' 'United Arab Emirates' 'Yemen'\n",
      " 'Indonesia' 'Philippines' 'Uzbekistan' 'Kyrgyzstan' 'Tajikistan' 'Japan'\n",
      " 'Republic of Congo' 'Switzerland' 'Brazil' 'Monaco' 'Israel' 'Uruguay'\n",
      " 'Sweden' 'Virgin Islands, US' 'Sri Lanka' 'Armenia' 'Ivory Coast' 'Kenya'\n",
      " 'Benin' 'Ukraine' 'UK' 'Ghana' 'Somalia' 'Latvia' 'Niger' 'Mali'\n",
      " 'Afghanistan' 'Poland' 'Costa Rica' 'Panama' 'Georgia' 'Slovenia'\n",
      " 'Croatia' 'Guyana' 'New Zealand' 'Portugal' 'Paraguay' 'Angola'\n",
      " 'Venezuela' 'Colombia' 'Bangladesh' 'Peru' 'El Salvador' 'Puerto Rico'\n",
      " 'Uganda' 'Honduras' 'Ecuador' 'Turkmenistan' 'Mauritius' 'Seychelles'\n",
      " 'Czech Republic' 'Luxembourg' 'Mauritania' 'Saint Kitts' 'Trinidad'\n",
      " 'Dominican Republic' 'Saint Vincent' 'Jamaica' 'Liberia' 'Suriname'\n",
      " 'Nepal' 'Mongolia' 'Austria' 'Palau' 'Lithuania' 'Togo' 'Namibia'\n",
      " 'Curacao' 'Iceland' 'American Samoa' 'Samoa' 'Rwanda' 'Dominica' 'Haiti'\n",
      " 'Malta' 'Cyprus' 'Guinea' 'Belize' 'South Korea' 'Thailand' 'Bermuda'\n",
      " 'Serbia' 'Sierra Leone' 'Papua New Guinea' 'Individual Olympic Athletes'\n",
      " 'Oman' 'Fiji' 'Vanuatu' 'Moldova' 'Bahamas' 'Guatemala'\n",
      " 'Virgin Islands, British' 'Mozambique' 'Central African Republic'\n",
      " 'Madagascar' 'Bosnia and Herzegovina' 'Guam' 'Cayman Islands' 'Slovakia'\n",
      " 'Barbados' 'Guinea-Bissau' 'Timor-Leste'\n",
      " 'Democratic Republic of the Congo' 'Gabon' 'San Marino' 'Laos' 'Botswana'\n",
      " nan 'Cambodia' 'North Korea' 'Solomon Islands' 'Senegal' 'Cape Verde'\n",
      " 'Equatorial Guinea' 'Boliva' 'Andorra' 'Antigua' 'Zimbabwe' 'Grenada'\n",
      " 'Saint Lucia' 'Micronesia' 'Myanmar' 'Malawi' 'Zambia' 'Taiwan'\n",
      " 'Sao Tome and Principe' 'Macedonia' 'Tonga' 'Liechtenstein' 'Montenegro'\n",
      " 'Gambia' 'Cook Islands' 'Albania' 'Swaziland' 'Burkina Faso' 'Burundi'\n",
      " 'Aruba' 'Nauru' 'Vietnam' 'Bhutan' 'Marshall Islands' 'Kiribati' 'Kosovo'\n",
      " 'South Sudan' 'Lesotho']\n"
     ]
    }
   ],
   "source": [
    "# b. Vilka länder är med?\n",
    "countries = merged_df['region'].unique()\n",
    "print(f'b. Vilka länder är med? {countries}')"
   ]
  },
  {
   "cell_type": "code",
   "execution_count": 6,
   "id": "a5943a953d6af5a6",
   "metadata": {
    "ExecuteTime": {
     "end_time": "2023-11-13T15:08:02.650979600Z",
     "start_time": "2023-11-13T15:08:01.627299400Z"
    },
    "collapsed": false
   },
   "outputs": [
    {
     "name": "stdout",
     "output_type": "stream",
     "text": [
      "c. Vilka sporter är med? ['Basketball' 'Judo' 'Boxing' 'Wrestling' 'Swimming' 'Speed Skating'\n",
      " 'Short Track Speed Skating' 'Softball' 'Hockey' 'Curling' 'Archery'\n",
      " 'Triathlon' 'Football' 'Rhythmic Gymnastics' 'Athletics' 'Badminton'\n",
      " 'Fencing' 'Figure Skating' 'Gymnastics' 'Volleyball' 'Baseball'\n",
      " 'Water Polo' 'Snowboarding' 'Shooting' 'Weightlifting' 'Cycling' 'Rowing'\n",
      " 'Sailing' 'Diving' 'Modern Pentathlon' 'Art Competitions'\n",
      " 'Synchronized Swimming' 'Handball' 'Canoeing' 'Cross Country Skiing'\n",
      " 'Table Tennis' 'Ice Hockey' 'Tennis' 'Taekwondo' 'Freestyle Skiing'\n",
      " 'Beach Volleyball' 'Trampolining' 'Alpine Skiing' 'Golf' 'Biathlon'\n",
      " 'Equestrianism' 'Ski Jumping' 'Tug-Of-War' 'Bobsleigh' 'Nordic Combined'\n",
      " 'Polo' 'Skeleton' 'Rugby Sevens' 'Luge' 'Roque' 'Rugby' 'Lacrosse'\n",
      " 'Jeu De Paume' 'Military Ski Patrol' 'Cricket' 'Croquet' 'Motorboating'\n",
      " 'Basque Pelota' 'Alpinism' 'Aeronautics' 'Racquets']\n"
     ]
    }
   ],
   "source": [
    "# c. Vilka sporter är med?\n",
    "sports = merged_df['Sport'].unique()\n",
    "print(f'c. Vilka sporter är med? {sports}')"
   ]
  },
  {
   "cell_type": "code",
   "execution_count": 7,
   "id": "e2af68d6bc25d40a",
   "metadata": {
    "ExecuteTime": {
     "end_time": "2023-11-13T15:08:21.535100300Z",
     "start_time": "2023-11-13T15:08:20.489914900Z"
    },
    "collapsed": false
   },
   "outputs": [
    {
     "name": "stdout",
     "output_type": "stream",
     "text": [
      "d. Vilka medaljtyper finns det? ['Silver' 'Bronze' 'Gold']\n"
     ]
    }
   ],
   "source": [
    "# d. Vilka medaljtyper finns det?\n",
    "medal_types = merged_df['Medal'].dropna().unique()\n",
    "print(f'd. Vilka medaljtyper finns det? {medal_types}')"
   ]
  },
  {
   "cell_type": "code",
   "execution_count": 8,
   "id": "63cad8ee19500cc4",
   "metadata": {
    "ExecuteTime": {
     "end_time": "2023-11-13T15:08:37.348010800Z",
     "start_time": "2023-11-13T15:08:36.298825800Z"
    },
    "collapsed": false
   },
   "outputs": [
    {
     "name": "stdout",
     "output_type": "stream",
     "text": [
      "e. Statistik för åldern:\n",
      "count    261305.000000\n",
      "mean         25.559783\n",
      "std           6.392501\n",
      "min          10.000000\n",
      "25%          21.000000\n",
      "50%          24.000000\n",
      "75%          28.000000\n",
      "max          97.000000\n",
      "Name: Age, dtype: float64\n"
     ]
    }
   ],
   "source": [
    "# e. Statistik för åldern\n",
    "age_stats = merged_df['Age'].describe()\n",
    "print(f'e. Statistik för åldern:\\n{age_stats}')"
   ]
  },
  {
   "cell_type": "code",
   "execution_count": 9,
   "id": "bb6ee88120c119f2",
   "metadata": {
    "ExecuteTime": {
     "end_time": "2023-11-13T15:09:25.106463400Z",
     "start_time": "2023-11-13T15:09:23.332649200Z"
    },
    "collapsed": false
   },
   
   "source": [
    "# f) Åldersfördelning inom varje sport\n",
    "fig = px.box(merged_df, x='Sport', y='Age', title='Åldersfördelning inom varje sport')\n",
    "fig.update_layout(xaxis=dict(tickangle=90))\n",
    "fig.show()"
   ]
  },
  {
   "cell_type": "code",
   "execution_count": null,
   "id": "36d039d07602983e",
   "metadata": {
    "ExecuteTime": {
     "end_time": "2023-11-13T15:08:52.170211700Z",
     "start_time": "2023-11-13T15:08:51.121026700Z"
    },
    "collapsed": false
   },
   "outputs": [
    {
     "data": {
      "image/png": "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",
      "text/plain": [
       "<Figure size 640x480 with 1 Axes>"
      ]
     },
     "metadata": {},
     "output_type": "display_data"
    }
   ],
   "source": [
    "# g. Diagram över könsfördelningen\n",
    "gender_distribution = merged_df['Sex'].value_counts()\n",
    "gender_distribution.plot(kind='bar', title='Könsfördelning')\n",
    "plt.show()"
   ]
  },
  {
   "cell_type": "code",
   "execution_count": null,
   "id": "33a9380c71e6cb06",
   "metadata": {
    "ExecuteTime": {
     "end_time": "2023-11-13T15:09:06.230281500Z",
     "start_time": "2023-11-13T15:09:05.203599900Z"
    },
    "collapsed": false
   },
   "outputs": [
    {
     "data": {
      "image/png": "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",
      "text/plain": [
       "<Figure size 640x480 with 1 Axes>"
      ]
     },
     "metadata": {},
     "output_type": "display_data"
    }
   ],
   "source": [
    "# h. Diagram över topp 10 länder som tagit flest medaljer\n",
    "top_countries = merged_df.groupby('region')['Medal'].count().sort_values(ascending=False).head(10)\n",
    "top_countries.plot(kind='bar', title='Top 10 länder med flest medaljer')\n",
    "plt.show()"
   ]
  },
  {
   "cell_type": "code",
   "execution_count": null,
   "id": "7899925d7a74e9fd",
   "metadata": {
    "ExecuteTime": {
     "end_time": "2023-11-13T15:14:31.198306500Z",
     "start_time": "2023-11-13T15:14:31.035277100Z"
    },
    "collapsed": false
   },
   "outputs": [
    {
     "data": {
      "application/vnd.plotly.v1+json": {
       "config": {
        "plotlyServerURL": "https://plot.ly"
       },
       "data": [
        {
         "alignmentgroup": "True",
         "hovertemplate": "Year=%{x}<br>Number of Women=%{y}<extra></extra>",
         "legendgroup": "",
         "marker": {
          "color": "#636efa",
          "pattern": {
           "shape": ""
          }
         },
         "name": "",
         "offsetgroup": "",
         "orientation": "v",
         "showlegend": false,
         "textposition": "auto",
         "type": "bar",
         "x": [
          1900,
          1904,
          1906,
          1908,
          1912,
          1920,
          1924,
          1928,
          1932,
          1936,
          1948,
          1952,
          1956,
          1960,
          1964,
          1968,
          1972,
          1976,
          1980,
          1984,
          1988,
          1992,
          1994,
          1996,
          1998,
          2000,
          2002,
          2004,
          2006,
          2008,
          2010,
          2012,
          2014,
          2016
         ],
         "xaxis": "x",
         "y": [
          33,
          16,
          11,
          47,
          87,
          134,
          261,
          437,
          369,
          549,
          761,
          1680,
          1136,
          1730,
          1752,
          2193,
          2605,
          2605,
          2186,
          2983,
          4222,
          5164,
          1105,
          4998,
          1384,
          5418,
          1582,
          5531,
          1757,
          5793,
          1847,
          5791,
          2023,
          6203
         ],
         "yaxis": "y"
        }
       ],
       "layout": {
        "barmode": "relative",
        "legend": {
         "tracegroupgap": 0
        },
        "template": {
         "data": {
          "bar": [
           {
            "error_x": {
             "color": "#f2f5fa"
            },
            "error_y": {
             "color": "#f2f5fa"
            },
            "marker": {
             "line": {
              "color": "rgb(17,17,17)",
              "width": 0.5
             },
             "pattern": {
              "fillmode": "overlay",
              "size": 10,
              "solidity": 0.2
             }
            },
            "type": "bar"
           }
          ],
          "barpolar": [
           {
            "marker": {
             "line": {
              "color": "rgb(17,17,17)",
              "width": 0.5
             },
             "pattern": {
              "fillmode": "overlay",
              "size": 10,
              "solidity": 0.2
             }
            },
            "type": "barpolar"
           }
          ],
          "carpet": [
           {
            "aaxis": {
             "endlinecolor": "#A2B1C6",
             "gridcolor": "#506784",
             "linecolor": "#506784",
             "minorgridcolor": "#506784",
             "startlinecolor": "#A2B1C6"
            },
            "baxis": {
             "endlinecolor": "#A2B1C6",
             "gridcolor": "#506784",
             "linecolor": "#506784",
             "minorgridcolor": "#506784",
             "startlinecolor": "#A2B1C6"
            },
            "type": "carpet"
           }
          ],
          "choropleth": [
           {
            "colorbar": {
             "outlinewidth": 0,
             "ticks": ""
            },
            "type": "choropleth"
           }
          ],
          "contour": [
           {
            "colorbar": {
             "outlinewidth": 0,
             "ticks": ""
            },
            "colorscale": [
             [
              0,
              "#0d0887"
             ],
             [
              0.1111111111111111,
              "#46039f"
             ],
             [
              0.2222222222222222,
              "#7201a8"
             ],
             [
              0.3333333333333333,
              "#9c179e"
             ],
             [
              0.4444444444444444,
              "#bd3786"
             ],
             [
              0.5555555555555556,
              "#d8576b"
             ],
             [
              0.6666666666666666,
              "#ed7953"
             ],
             [
              0.7777777777777778,
              "#fb9f3a"
             ],
             [
              0.8888888888888888,
              "#fdca26"
             ],
             [
              1,
              "#f0f921"
             ]
            ],
            "type": "contour"
           }
          ],
          "contourcarpet": [
           {
            "colorbar": {
             "outlinewidth": 0,
             "ticks": ""
            },
            "type": "contourcarpet"
           }
          ],
          "heatmap": [
           {
            "colorbar": {
             "outlinewidth": 0,
             "ticks": ""
            },
            "colorscale": [
             [
              0,
              "#0d0887"
             ],
             [
              0.1111111111111111,
              "#46039f"
             ],
             [
              0.2222222222222222,
              "#7201a8"
             ],
             [
              0.3333333333333333,
              "#9c179e"
             ],
             [
              0.4444444444444444,
              "#bd3786"
             ],
             [
              0.5555555555555556,
              "#d8576b"
             ],
             [
              0.6666666666666666,
              "#ed7953"
             ],
             [
              0.7777777777777778,
              "#fb9f3a"
             ],
             [
              0.8888888888888888,
              "#fdca26"
             ],
             [
              1,
              "#f0f921"
             ]
            ],
            "type": "heatmap"
           }
          ],
          "heatmapgl": [
           {
            "colorbar": {
             "outlinewidth": 0,
             "ticks": ""
            },
            "colorscale": [
             [
              0,
              "#0d0887"
             ],
             [
              0.1111111111111111,
              "#46039f"
             ],
             [
              0.2222222222222222,
              "#7201a8"
             ],
             [
              0.3333333333333333,
              "#9c179e"
             ],
             [
              0.4444444444444444,
              "#bd3786"
             ],
             [
              0.5555555555555556,
              "#d8576b"
             ],
             [
              0.6666666666666666,
              "#ed7953"
             ],
             [
              0.7777777777777778,
              "#fb9f3a"
             ],
             [
              0.8888888888888888,
              "#fdca26"
             ],
             [
              1,
              "#f0f921"
             ]
            ],
            "type": "heatmapgl"
           }
          ],
          "histogram": [
           {
            "marker": {
             "pattern": {
              "fillmode": "overlay",
              "size": 10,
              "solidity": 0.2
             }
            },
            "type": "histogram"
           }
          ],
          "histogram2d": [
           {
            "colorbar": {
             "outlinewidth": 0,
             "ticks": ""
            },
            "colorscale": [
             [
              0,
              "#0d0887"
             ],
             [
              0.1111111111111111,
              "#46039f"
             ],
             [
              0.2222222222222222,
              "#7201a8"
             ],
             [
              0.3333333333333333,
              "#9c179e"
             ],
             [
              0.4444444444444444,
              "#bd3786"
             ],
             [
              0.5555555555555556,
              "#d8576b"
             ],
             [
              0.6666666666666666,
              "#ed7953"
             ],
             [
              0.7777777777777778,
              "#fb9f3a"
             ],
             [
              0.8888888888888888,
              "#fdca26"
             ],
             [
              1,
              "#f0f921"
             ]
            ],
            "type": "histogram2d"
           }
          ],
          "histogram2dcontour": [
           {
            "colorbar": {
             "outlinewidth": 0,
             "ticks": ""
            },
            "colorscale": [
             [
              0,
              "#0d0887"
             ],
             [
              0.1111111111111111,
              "#46039f"
             ],
             [
              0.2222222222222222,
              "#7201a8"
             ],
             [
              0.3333333333333333,
              "#9c179e"
             ],
             [
              0.4444444444444444,
              "#bd3786"
             ],
             [
              0.5555555555555556,
              "#d8576b"
             ],
             [
              0.6666666666666666,
              "#ed7953"
             ],
             [
              0.7777777777777778,
              "#fb9f3a"
             ],
             [
              0.8888888888888888,
              "#fdca26"
             ],
             [
              1,
              "#f0f921"
             ]
            ],
            "type": "histogram2dcontour"
           }
          ],
          "mesh3d": [
           {
            "colorbar": {
             "outlinewidth": 0,
             "ticks": ""
            },
            "type": "mesh3d"
           }
          ],
          "parcoords": [
           {
            "line": {
             "colorbar": {
              "outlinewidth": 0,
              "ticks": ""
             }
            },
            "type": "parcoords"
           }
          ],
          "pie": [
           {
            "automargin": true,
            "type": "pie"
           }
          ],
          "scatter": [
           {
            "marker": {
             "line": {
              "color": "#283442"
             }
            },
            "type": "scatter"
           }
          ],
          "scatter3d": [
           {
            "line": {
             "colorbar": {
              "outlinewidth": 0,
              "ticks": ""
             }
            },
            "marker": {
             "colorbar": {
              "outlinewidth": 0,
              "ticks": ""
             }
            },
            "type": "scatter3d"
           }
          ],
          "scattercarpet": [
           {
            "marker": {
             "colorbar": {
              "outlinewidth": 0,
              "ticks": ""
             }
            },
            "type": "scattercarpet"
           }
          ],
          "scattergeo": [
           {
            "marker": {
             "colorbar": {
              "outlinewidth": 0,
              "ticks": ""
             }
            },
            "type": "scattergeo"
           }
          ],
          "scattergl": [
           {
            "marker": {
             "line": {
              "color": "#283442"
             }
            },
            "type": "scattergl"
           }
          ],
          "scattermapbox": [
           {
            "marker": {
             "colorbar": {
              "outlinewidth": 0,
              "ticks": ""
             }
            },
            "type": "scattermapbox"
           }
          ],
          "scatterpolar": [
           {
            "marker": {
             "colorbar": {
              "outlinewidth": 0,
              "ticks": ""
             }
            },
            "type": "scatterpolar"
           }
          ],
          "scatterpolargl": [
           {
            "marker": {
             "colorbar": {
              "outlinewidth": 0,
              "ticks": ""
             }
            },
            "type": "scatterpolargl"
           }
          ],
          "scatterternary": [
           {
            "marker": {
             "colorbar": {
              "outlinewidth": 0,
              "ticks": ""
             }
            },
            "type": "scatterternary"
           }
          ],
          "surface": [
           {
            "colorbar": {
             "outlinewidth": 0,
             "ticks": ""
            },
            "colorscale": [
             [
              0,
              "#0d0887"
             ],
             [
              0.1111111111111111,
              "#46039f"
             ],
             [
              0.2222222222222222,
              "#7201a8"
             ],
             [
              0.3333333333333333,
              "#9c179e"
             ],
             [
              0.4444444444444444,
              "#bd3786"
             ],
             [
              0.5555555555555556,
              "#d8576b"
             ],
             [
              0.6666666666666666,
              "#ed7953"
             ],
             [
              0.7777777777777778,
              "#fb9f3a"
             ],
             [
              0.8888888888888888,
              "#fdca26"
             ],
             [
              1,
              "#f0f921"
             ]
            ],
            "type": "surface"
           }
          ],
          "table": [
           {
            "cells": {
             "fill": {
              "color": "#506784"
             },
             "line": {
              "color": "rgb(17,17,17)"
             }
            },
            "header": {
             "fill": {
              "color": "#2a3f5f"
             },
             "line": {
              "color": "rgb(17,17,17)"
             }
            },
            "type": "table"
           }
          ]
         },
         "layout": {
          "annotationdefaults": {
           "arrowcolor": "#f2f5fa",
           "arrowhead": 0,
           "arrowwidth": 1
          },
          "autotypenumbers": "strict",
          "coloraxis": {
           "colorbar": {
            "outlinewidth": 0,
            "ticks": ""
           }
          },
          "colorscale": {
           "diverging": [
            [
             0,
             "#8e0152"
            ],
            [
             0.1,
             "#c51b7d"
            ],
            [
             0.2,
             "#de77ae"
            ],
            [
             0.3,
             "#f1b6da"
            ],
            [
             0.4,
             "#fde0ef"
            ],
            [
             0.5,
             "#f7f7f7"
            ],
            [
             0.6,
             "#e6f5d0"
            ],
            [
             0.7,
             "#b8e186"
            ],
            [
             0.8,
             "#7fbc41"
            ],
            [
             0.9,
             "#4d9221"
            ],
            [
             1,
             "#276419"
            ]
           ],
           "sequential": [
            [
             0,
             "#0d0887"
            ],
            [
             0.1111111111111111,
             "#46039f"
            ],
            [
             0.2222222222222222,
             "#7201a8"
            ],
            [
             0.3333333333333333,
             "#9c179e"
            ],
            [
             0.4444444444444444,
             "#bd3786"
            ],
            [
             0.5555555555555556,
             "#d8576b"
            ],
            [
             0.6666666666666666,
             "#ed7953"
            ],
            [
             0.7777777777777778,
             "#fb9f3a"
            ],
            [
             0.8888888888888888,
             "#fdca26"
            ],
            [
             1,
             "#f0f921"
            ]
           ],
           "sequentialminus": [
            [
             0,
             "#0d0887"
            ],
            [
             0.1111111111111111,
             "#46039f"
            ],
            [
             0.2222222222222222,
             "#7201a8"
            ],
            [
             0.3333333333333333,
             "#9c179e"
            ],
            [
             0.4444444444444444,
             "#bd3786"
            ],
            [
             0.5555555555555556,
             "#d8576b"
            ],
            [
             0.6666666666666666,
             "#ed7953"
            ],
            [
             0.7777777777777778,
             "#fb9f3a"
            ],
            [
             0.8888888888888888,
             "#fdca26"
            ],
            [
             1,
             "#f0f921"
            ]
           ]
          },
          "colorway": [
           "#636efa",
           "#EF553B",
           "#00cc96",
           "#ab63fa",
           "#FFA15A",
           "#19d3f3",
           "#FF6692",
           "#B6E880",
           "#FF97FF",
           "#FECB52"
          ],
          "font": {
           "color": "#f2f5fa"
          },
          "geo": {
           "bgcolor": "rgb(17,17,17)",
           "lakecolor": "rgb(17,17,17)",
           "landcolor": "rgb(17,17,17)",
           "showlakes": true,
           "showland": true,
           "subunitcolor": "#506784"
          },
          "hoverlabel": {
           "align": "left"
          },
          "hovermode": "closest",
          "mapbox": {
           "style": "dark"
          },
          "paper_bgcolor": "rgb(17,17,17)",
          "plot_bgcolor": "rgb(17,17,17)",
          "polar": {
           "angularaxis": {
            "gridcolor": "#506784",
            "linecolor": "#506784",
            "ticks": ""
           },
           "bgcolor": "rgb(17,17,17)",
           "radialaxis": {
            "gridcolor": "#506784",
            "linecolor": "#506784",
            "ticks": ""
           }
          },
          "scene": {
           "xaxis": {
            "backgroundcolor": "rgb(17,17,17)",
            "gridcolor": "#506784",
            "gridwidth": 2,
            "linecolor": "#506784",
            "showbackground": true,
            "ticks": "",
            "zerolinecolor": "#C8D4E3"
           },
           "yaxis": {
            "backgroundcolor": "rgb(17,17,17)",
            "gridcolor": "#506784",
            "gridwidth": 2,
            "linecolor": "#506784",
            "showbackground": true,
            "ticks": "",
            "zerolinecolor": "#C8D4E3"
           },
           "zaxis": {
            "backgroundcolor": "rgb(17,17,17)",
            "gridcolor": "#506784",
            "gridwidth": 2,
            "linecolor": "#506784",
            "showbackground": true,
            "ticks": "",
            "zerolinecolor": "#C8D4E3"
           }
          },
          "shapedefaults": {
           "line": {
            "color": "#f2f5fa"
           }
          },
          "sliderdefaults": {
           "bgcolor": "#C8D4E3",
           "bordercolor": "rgb(17,17,17)",
           "borderwidth": 1,
           "tickwidth": 0
          },
          "ternary": {
           "aaxis": {
            "gridcolor": "#506784",
            "linecolor": "#506784",
            "ticks": ""
           },
           "baxis": {
            "gridcolor": "#506784",
            "linecolor": "#506784",
            "ticks": ""
           },
           "bgcolor": "rgb(17,17,17)",
           "caxis": {
            "gridcolor": "#506784",
            "linecolor": "#506784",
            "ticks": ""
           }
          },
          "title": {
           "x": 0.05
          },
          "updatemenudefaults": {
           "bgcolor": "#506784",
           "borderwidth": 0
          },
          "xaxis": {
           "automargin": true,
           "gridcolor": "#283442",
           "linecolor": "#506784",
           "ticks": "",
           "title": {
            "standoff": 15
           },
           "zerolinecolor": "#283442",
           "zerolinewidth": 2
          },
          "yaxis": {
           "automargin": true,
           "gridcolor": "#283442",
           "linecolor": "#506784",
           "ticks": "",
           "title": {
            "standoff": 15
           },
           "zerolinecolor": "#283442",
           "zerolinewidth": 2
          }
         }
        },
        "title": {
         "text": "Number of Women in Each Year of the Olympics"
        },
        "xaxis": {
         "anchor": "y",
         "domain": [
          0,
          1
         ],
         "title": {
          "text": "Year"
         }
        },
        "yaxis": {
         "anchor": "x",
         "domain": [
          0,
          1
         ],
         "title": {
          "text": "Number of Women"
         }
        }
       }
      },
      "text/html": [
       "<div>                            <div id=\"4d3c4f57-6c7b-4215-9630-cdc4028e75e2\" class=\"plotly-graph-div\" style=\"height:525px; width:100%;\"></div>            <script type=\"text/javascript\">                require([\"plotly\"], function(Plotly) {                    window.PLOTLYENV=window.PLOTLYENV || {};                                    if (document.getElementById(\"4d3c4f57-6c7b-4215-9630-cdc4028e75e2\")) {                    Plotly.newPlot(                        \"4d3c4f57-6c7b-4215-9630-cdc4028e75e2\",                        [{\"alignmentgroup\":\"True\",\"hovertemplate\":\"Year=%{x}<br>Number of Women=%{y}<extra></extra>\",\"legendgroup\":\"\",\"marker\":{\"color\":\"#636efa\",\"pattern\":{\"shape\":\"\"}},\"name\":\"\",\"offsetgroup\":\"\",\"orientation\":\"v\",\"showlegend\":false,\"textposition\":\"auto\",\"x\":[1900,1904,1906,1908,1912,1920,1924,1928,1932,1936,1948,1952,1956,1960,1964,1968,1972,1976,1980,1984,1988,1992,1994,1996,1998,2000,2002,2004,2006,2008,2010,2012,2014,2016],\"xaxis\":\"x\",\"y\":[33,16,11,47,87,134,261,437,369,549,761,1680,1136,1730,1752,2193,2605,2605,2186,2983,4222,5164,1105,4998,1384,5418,1582,5531,1757,5793,1847,5791,2023,6203],\"yaxis\":\"y\",\"type\":\"bar\"}],                        {\"template\":{\"data\":{\"histogram2dcontour\":[{\"type\":\"histogram2dcontour\",\"colorbar\":{\"outlinewidth\":0,\"ticks\":\"\"},\"colorscale\":[[0.0,\"#0d0887\"],[0.1111111111111111,\"#46039f\"],[0.2222222222222222,\"#7201a8\"],[0.3333333333333333,\"#9c179e\"],[0.4444444444444444,\"#bd3786\"],[0.5555555555555556,\"#d8576b\"],[0.6666666666666666,\"#ed7953\"],[0.7777777777777778,\"#fb9f3a\"],[0.8888888888888888,\"#fdca26\"],[1.0,\"#f0f921\"]]}],\"choropleth\":[{\"type\":\"choropleth\",\"colorbar\":{\"outlinewidth\":0,\"ticks\":\"\"}}],\"histogram2d\":[{\"type\":\"histogram2d\",\"colorbar\":{\"outlinewidth\":0,\"ticks\":\"\"},\"colorscale\":[[0.0,\"#0d0887\"],[0.1111111111111111,\"#46039f\"],[0.2222222222222222,\"#7201a8\"],[0.3333333333333333,\"#9c179e\"],[0.4444444444444444,\"#bd3786\"],[0.5555555555555556,\"#d8576b\"],[0.6666666666666666,\"#ed7953\"],[0.7777777777777778,\"#fb9f3a\"],[0.8888888888888888,\"#fdca26\"],[1.0,\"#f0f921\"]]}],\"heatmap\":[{\"type\":\"heatmap\",\"colorbar\":{\"outlinewidth\":0,\"ticks\":\"\"},\"colorscale\":[[0.0,\"#0d0887\"],[0.1111111111111111,\"#46039f\"],[0.2222222222222222,\"#7201a8\"],[0.3333333333333333,\"#9c179e\"],[0.4444444444444444,\"#bd3786\"],[0.5555555555555556,\"#d8576b\"],[0.6666666666666666,\"#ed7953\"],[0.7777777777777778,\"#fb9f3a\"],[0.8888888888888888,\"#fdca26\"],[1.0,\"#f0f921\"]]}],\"heatmapgl\":[{\"type\":\"heatmapgl\",\"colorbar\":{\"outlinewidth\":0,\"ticks\":\"\"},\"colorscale\":[[0.0,\"#0d0887\"],[0.1111111111111111,\"#46039f\"],[0.2222222222222222,\"#7201a8\"],[0.3333333333333333,\"#9c179e\"],[0.4444444444444444,\"#bd3786\"],[0.5555555555555556,\"#d8576b\"],[0.6666666666666666,\"#ed7953\"],[0.7777777777777778,\"#fb9f3a\"],[0.8888888888888888,\"#fdca26\"],[1.0,\"#f0f921\"]]}],\"contourcarpet\":[{\"type\":\"contourcarpet\",\"colorbar\":{\"outlinewidth\":0,\"ticks\":\"\"}}],\"contour\":[{\"type\":\"contour\",\"colorbar\":{\"outlinewidth\":0,\"ticks\":\"\"},\"colorscale\":[[0.0,\"#0d0887\"],[0.1111111111111111,\"#46039f\"],[0.2222222222222222,\"#7201a8\"],[0.3333333333333333,\"#9c179e\"],[0.4444444444444444,\"#bd3786\"],[0.5555555555555556,\"#d8576b\"],[0.6666666666666666,\"#ed7953\"],[0.7777777777777778,\"#fb9f3a\"],[0.8888888888888888,\"#fdca26\"],[1.0,\"#f0f921\"]]}],\"surface\":[{\"type\":\"surface\",\"colorbar\":{\"outlinewidth\":0,\"ticks\":\"\"},\"colorscale\":[[0.0,\"#0d0887\"],[0.1111111111111111,\"#46039f\"],[0.2222222222222222,\"#7201a8\"],[0.3333333333333333,\"#9c179e\"],[0.4444444444444444,\"#bd3786\"],[0.5555555555555556,\"#d8576b\"],[0.6666666666666666,\"#ed7953\"],[0.7777777777777778,\"#fb9f3a\"],[0.8888888888888888,\"#fdca26\"],[1.0,\"#f0f921\"]]}],\"mesh3d\":[{\"type\":\"mesh3d\",\"colorbar\":{\"outlinewidth\":0,\"ticks\":\"\"}}],\"scatter\":[{\"marker\":{\"line\":{\"color\":\"#283442\"}},\"type\":\"scatter\"}],\"parcoords\":[{\"type\":\"parcoords\",\"line\":{\"colorbar\":{\"outlinewidth\":0,\"ticks\":\"\"}}}],\"scatterpolargl\":[{\"type\":\"scatterpolargl\",\"marker\":{\"colorbar\":{\"outlinewidth\":0,\"ticks\":\"\"}}}],\"bar\":[{\"error_x\":{\"color\":\"#f2f5fa\"},\"error_y\":{\"color\":\"#f2f5fa\"},\"marker\":{\"line\":{\"color\":\"rgb(17,17,17)\",\"width\":0.5},\"pattern\":{\"fillmode\":\"overlay\",\"size\":10,\"solidity\":0.2}},\"type\":\"bar\"}],\"scattergeo\":[{\"type\":\"scattergeo\",\"marker\":{\"colorbar\":{\"outlinewidth\":0,\"ticks\":\"\"}}}],\"scatterpolar\":[{\"type\":\"scatterpolar\",\"marker\":{\"colorbar\":{\"outlinewidth\":0,\"ticks\":\"\"}}}],\"histogram\":[{\"marker\":{\"pattern\":{\"fillmode\":\"overlay\",\"size\":10,\"solidity\":0.2}},\"type\":\"histogram\"}],\"scattergl\":[{\"marker\":{\"line\":{\"color\":\"#283442\"}},\"type\":\"scattergl\"}],\"scatter3d\":[{\"type\":\"scatter3d\",\"line\":{\"colorbar\":{\"outlinewidth\":0,\"ticks\":\"\"}},\"marker\":{\"colorbar\":{\"outlinewidth\":0,\"ticks\":\"\"}}}],\"scattermapbox\":[{\"type\":\"scattermapbox\",\"marker\":{\"colorbar\":{\"outlinewidth\":0,\"ticks\":\"\"}}}],\"scatterternary\":[{\"type\":\"scatterternary\",\"marker\":{\"colorbar\":{\"outlinewidth\":0,\"ticks\":\"\"}}}],\"scattercarpet\":[{\"type\":\"scattercarpet\",\"marker\":{\"colorbar\":{\"outlinewidth\":0,\"ticks\":\"\"}}}],\"carpet\":[{\"aaxis\":{\"endlinecolor\":\"#A2B1C6\",\"gridcolor\":\"#506784\",\"linecolor\":\"#506784\",\"minorgridcolor\":\"#506784\",\"startlinecolor\":\"#A2B1C6\"},\"baxis\":{\"endlinecolor\":\"#A2B1C6\",\"gridcolor\":\"#506784\",\"linecolor\":\"#506784\",\"minorgridcolor\":\"#506784\",\"startlinecolor\":\"#A2B1C6\"},\"type\":\"carpet\"}],\"table\":[{\"cells\":{\"fill\":{\"color\":\"#506784\"},\"line\":{\"color\":\"rgb(17,17,17)\"}},\"header\":{\"fill\":{\"color\":\"#2a3f5f\"},\"line\":{\"color\":\"rgb(17,17,17)\"}},\"type\":\"table\"}],\"barpolar\":[{\"marker\":{\"line\":{\"color\":\"rgb(17,17,17)\",\"width\":0.5},\"pattern\":{\"fillmode\":\"overlay\",\"size\":10,\"solidity\":0.2}},\"type\":\"barpolar\"}],\"pie\":[{\"automargin\":true,\"type\":\"pie\"}]},\"layout\":{\"autotypenumbers\":\"strict\",\"colorway\":[\"#636efa\",\"#EF553B\",\"#00cc96\",\"#ab63fa\",\"#FFA15A\",\"#19d3f3\",\"#FF6692\",\"#B6E880\",\"#FF97FF\",\"#FECB52\"],\"font\":{\"color\":\"#f2f5fa\"},\"hovermode\":\"closest\",\"hoverlabel\":{\"align\":\"left\"},\"paper_bgcolor\":\"rgb(17,17,17)\",\"plot_bgcolor\":\"rgb(17,17,17)\",\"polar\":{\"bgcolor\":\"rgb(17,17,17)\",\"angularaxis\":{\"gridcolor\":\"#506784\",\"linecolor\":\"#506784\",\"ticks\":\"\"},\"radialaxis\":{\"gridcolor\":\"#506784\",\"linecolor\":\"#506784\",\"ticks\":\"\"}},\"ternary\":{\"bgcolor\":\"rgb(17,17,17)\",\"aaxis\":{\"gridcolor\":\"#506784\",\"linecolor\":\"#506784\",\"ticks\":\"\"},\"baxis\":{\"gridcolor\":\"#506784\",\"linecolor\":\"#506784\",\"ticks\":\"\"},\"caxis\":{\"gridcolor\":\"#506784\",\"linecolor\":\"#506784\",\"ticks\":\"\"}},\"coloraxis\":{\"colorbar\":{\"outlinewidth\":0,\"ticks\":\"\"}},\"colorscale\":{\"sequential\":[[0.0,\"#0d0887\"],[0.1111111111111111,\"#46039f\"],[0.2222222222222222,\"#7201a8\"],[0.3333333333333333,\"#9c179e\"],[0.4444444444444444,\"#bd3786\"],[0.5555555555555556,\"#d8576b\"],[0.6666666666666666,\"#ed7953\"],[0.7777777777777778,\"#fb9f3a\"],[0.8888888888888888,\"#fdca26\"],[1.0,\"#f0f921\"]],\"sequentialminus\":[[0.0,\"#0d0887\"],[0.1111111111111111,\"#46039f\"],[0.2222222222222222,\"#7201a8\"],[0.3333333333333333,\"#9c179e\"],[0.4444444444444444,\"#bd3786\"],[0.5555555555555556,\"#d8576b\"],[0.6666666666666666,\"#ed7953\"],[0.7777777777777778,\"#fb9f3a\"],[0.8888888888888888,\"#fdca26\"],[1.0,\"#f0f921\"]],\"diverging\":[[0,\"#8e0152\"],[0.1,\"#c51b7d\"],[0.2,\"#de77ae\"],[0.3,\"#f1b6da\"],[0.4,\"#fde0ef\"],[0.5,\"#f7f7f7\"],[0.6,\"#e6f5d0\"],[0.7,\"#b8e186\"],[0.8,\"#7fbc41\"],[0.9,\"#4d9221\"],[1,\"#276419\"]]},\"xaxis\":{\"gridcolor\":\"#283442\",\"linecolor\":\"#506784\",\"ticks\":\"\",\"title\":{\"standoff\":15},\"zerolinecolor\":\"#283442\",\"automargin\":true,\"zerolinewidth\":2},\"yaxis\":{\"gridcolor\":\"#283442\",\"linecolor\":\"#506784\",\"ticks\":\"\",\"title\":{\"standoff\":15},\"zerolinecolor\":\"#283442\",\"automargin\":true,\"zerolinewidth\":2},\"scene\":{\"xaxis\":{\"backgroundcolor\":\"rgb(17,17,17)\",\"gridcolor\":\"#506784\",\"linecolor\":\"#506784\",\"showbackground\":true,\"ticks\":\"\",\"zerolinecolor\":\"#C8D4E3\",\"gridwidth\":2},\"yaxis\":{\"backgroundcolor\":\"rgb(17,17,17)\",\"gridcolor\":\"#506784\",\"linecolor\":\"#506784\",\"showbackground\":true,\"ticks\":\"\",\"zerolinecolor\":\"#C8D4E3\",\"gridwidth\":2},\"zaxis\":{\"backgroundcolor\":\"rgb(17,17,17)\",\"gridcolor\":\"#506784\",\"linecolor\":\"#506784\",\"showbackground\":true,\"ticks\":\"\",\"zerolinecolor\":\"#C8D4E3\",\"gridwidth\":2}},\"shapedefaults\":{\"line\":{\"color\":\"#f2f5fa\"}},\"annotationdefaults\":{\"arrowcolor\":\"#f2f5fa\",\"arrowhead\":0,\"arrowwidth\":1},\"geo\":{\"bgcolor\":\"rgb(17,17,17)\",\"landcolor\":\"rgb(17,17,17)\",\"subunitcolor\":\"#506784\",\"showland\":true,\"showlakes\":true,\"lakecolor\":\"rgb(17,17,17)\"},\"title\":{\"x\":0.05},\"updatemenudefaults\":{\"bgcolor\":\"#506784\",\"borderwidth\":0},\"sliderdefaults\":{\"bgcolor\":\"#C8D4E3\",\"borderwidth\":1,\"bordercolor\":\"rgb(17,17,17)\",\"tickwidth\":0},\"mapbox\":{\"style\":\"dark\"}}},\"xaxis\":{\"anchor\":\"y\",\"domain\":[0.0,1.0],\"title\":{\"text\":\"Year\"}},\"yaxis\":{\"anchor\":\"x\",\"domain\":[0.0,1.0],\"title\":{\"text\":\"Number of Women\"}},\"legend\":{\"tracegroupgap\":0},\"title\":{\"text\":\"Number of Women in Each Year of the Olympics\"},\"barmode\":\"relative\"},                        {\"responsive\": true}                    ).then(function(){\n",
       "                            \n",
       "var gd = document.getElementById('4d3c4f57-6c7b-4215-9630-cdc4028e75e2');\n",
       "var x = new MutationObserver(function (mutations, observer) {{\n",
       "        var display = window.getComputedStyle(gd).display;\n",
       "        if (!display || display === 'none') {{\n",
       "            console.log([gd, 'removed!']);\n",
       "            Plotly.purge(gd);\n",
       "            observer.disconnect();\n",
       "        }}\n",
       "}});\n",
       "\n",
       "// Listen for the removal of the full notebook cells\n",
       "var notebookContainer = gd.closest('#notebook-container');\n",
       "if (notebookContainer) {{\n",
       "    x.observe(notebookContainer, {childList: true});\n",
       "}}\n",
       "\n",
       "// Listen for the clearing of the current output cell\n",
       "var outputEl = gd.closest('.output');\n",
       "if (outputEl) {{\n",
       "    x.observe(outputEl, {childList: true});\n",
       "}}\n",
       "\n",
       "                        })                };                });            </script>        </div>"
      ]
     },
     "metadata": {},
     "output_type": "display_data"
    }
   ],
   "source": [
    "# i) The progression of how many female olympic sports participants there are over the years\n",
    "women_df = merged_df[merged_df['Sex'] == 'F']\n",
    "\n",
    "# Count the number of women in each year\n",
    "women_per_year = women_df.groupby('Year').size().reset_index(name='Number of Women')\n",
    "\n",
    "# Create an interactive bar graph using Plotly Express\n",
    "fig = px.bar(women_per_year, x='Year', y='Number of Women', title='Number of Women in Each Year of the Olympics',\n",
    "             labels={'Number of Women': 'Number of Women', 'Year': 'Year'})\n",
    "\n",
    "fig.show()"
   ]
  },
  {
   "cell_type": "code",
   "execution_count": null,
   "id": "4c191f8d11e22f35",
   "metadata": {
    "ExecuteTime": {
     "end_time": "2023-11-13T15:14:26.920324200Z",
     "start_time": "2023-11-13T15:14:26.136686700Z"
    },
    "collapsed": false
   },
   "outputs": [
    {
     "data": {
      "application/vnd.plotly.v1+json": {
       "config": {
        "plotlyServerURL": "https://plot.ly"
       },
       "data": [
        {
         "alignmentgroup": "True",
         "hovertemplate": "Year=%{x}<br>Number of Women=%{y}<extra></extra>",
         "legendgroup": "",
         "marker": {
          "color": "#636efa",
          "pattern": {
           "shape": ""
          }
         },
         "name": "",
         "offsetgroup": "",
         "orientation": "v",
         "showlegend": false,
         "textposition": "auto",
         "type": "bar",
         "x": [
          1900,
          1904,
          1906,
          1908,
          1912,
          1920,
          1924,
          1928,
          1932,
          1936,
          1948,
          1952,
          1956,
          1960,
          1964,
          1968,
          1972,
          1976,
          1980,
          1984,
          1988,
          1992,
          1996,
          2000,
          2004,
          2008,
          2012,
          2016
         ],
         "xaxis": "x",
         "y": [
          33,
          16,
          11,
          47,
          87,
          134,
          244,
          404,
          347,
          468,
          628,
          1495,
          890,
          1435,
          1348,
          1777,
          2190,
          2171,
          1756,
          2447,
          3542,
          4110,
          4998,
          5418,
          5531,
          5793,
          5791,
          6203
         ],
         "yaxis": "y"
        }
       ],
       "layout": {
        "barmode": "relative",
        "legend": {
         "tracegroupgap": 0
        },
        "template": {
         "data": {
          "bar": [
           {
            "error_x": {
             "color": "#f2f5fa"
            },
            "error_y": {
             "color": "#f2f5fa"
            },
            "marker": {
             "line": {
              "color": "rgb(17,17,17)",
              "width": 0.5
             },
             "pattern": {
              "fillmode": "overlay",
              "size": 10,
              "solidity": 0.2
             }
            },
            "type": "bar"
           }
          ],
          "barpolar": [
           {
            "marker": {
             "line": {
              "color": "rgb(17,17,17)",
              "width": 0.5
             },
             "pattern": {
              "fillmode": "overlay",
              "size": 10,
              "solidity": 0.2
             }
            },
            "type": "barpolar"
           }
          ],
          "carpet": [
           {
            "aaxis": {
             "endlinecolor": "#A2B1C6",
             "gridcolor": "#506784",
             "linecolor": "#506784",
             "minorgridcolor": "#506784",
             "startlinecolor": "#A2B1C6"
            },
            "baxis": {
             "endlinecolor": "#A2B1C6",
             "gridcolor": "#506784",
             "linecolor": "#506784",
             "minorgridcolor": "#506784",
             "startlinecolor": "#A2B1C6"
            },
            "type": "carpet"
           }
          ],
          "choropleth": [
           {
            "colorbar": {
             "outlinewidth": 0,
             "ticks": ""
            },
            "type": "choropleth"
           }
          ],
          "contour": [
           {
            "colorbar": {
             "outlinewidth": 0,
             "ticks": ""
            },
            "colorscale": [
             [
              0,
              "#0d0887"
             ],
             [
              0.1111111111111111,
              "#46039f"
             ],
             [
              0.2222222222222222,
              "#7201a8"
             ],
             [
              0.3333333333333333,
              "#9c179e"
             ],
             [
              0.4444444444444444,
              "#bd3786"
             ],
             [
              0.5555555555555556,
              "#d8576b"
             ],
             [
              0.6666666666666666,
              "#ed7953"
             ],
             [
              0.7777777777777778,
              "#fb9f3a"
             ],
             [
              0.8888888888888888,
              "#fdca26"
             ],
             [
              1,
              "#f0f921"
             ]
            ],
            "type": "contour"
           }
          ],
          "contourcarpet": [
           {
            "colorbar": {
             "outlinewidth": 0,
             "ticks": ""
            },
            "type": "contourcarpet"
           }
          ],
          "heatmap": [
           {
            "colorbar": {
             "outlinewidth": 0,
             "ticks": ""
            },
            "colorscale": [
             [
              0,
              "#0d0887"
             ],
             [
              0.1111111111111111,
              "#46039f"
             ],
             [
              0.2222222222222222,
              "#7201a8"
             ],
             [
              0.3333333333333333,
              "#9c179e"
             ],
             [
              0.4444444444444444,
              "#bd3786"
             ],
             [
              0.5555555555555556,
              "#d8576b"
             ],
             [
              0.6666666666666666,
              "#ed7953"
             ],
             [
              0.7777777777777778,
              "#fb9f3a"
             ],
             [
              0.8888888888888888,
              "#fdca26"
             ],
             [
              1,
              "#f0f921"
             ]
            ],
            "type": "heatmap"
           }
          ],
          "heatmapgl": [
           {
            "colorbar": {
             "outlinewidth": 0,
             "ticks": ""
            },
            "colorscale": [
             [
              0,
              "#0d0887"
             ],
             [
              0.1111111111111111,
              "#46039f"
             ],
             [
              0.2222222222222222,
              "#7201a8"
             ],
             [
              0.3333333333333333,
              "#9c179e"
             ],
             [
              0.4444444444444444,
              "#bd3786"
             ],
             [
              0.5555555555555556,
              "#d8576b"
             ],
             [
              0.6666666666666666,
              "#ed7953"
             ],
             [
              0.7777777777777778,
              "#fb9f3a"
             ],
             [
              0.8888888888888888,
              "#fdca26"
             ],
             [
              1,
              "#f0f921"
             ]
            ],
            "type": "heatmapgl"
           }
          ],
          "histogram": [
           {
            "marker": {
             "pattern": {
              "fillmode": "overlay",
              "size": 10,
              "solidity": 0.2
             }
            },
            "type": "histogram"
           }
          ],
          "histogram2d": [
           {
            "colorbar": {
             "outlinewidth": 0,
             "ticks": ""
            },
            "colorscale": [
             [
              0,
              "#0d0887"
             ],
             [
              0.1111111111111111,
              "#46039f"
             ],
             [
              0.2222222222222222,
              "#7201a8"
             ],
             [
              0.3333333333333333,
              "#9c179e"
             ],
             [
              0.4444444444444444,
              "#bd3786"
             ],
             [
              0.5555555555555556,
              "#d8576b"
             ],
             [
              0.6666666666666666,
              "#ed7953"
             ],
             [
              0.7777777777777778,
              "#fb9f3a"
             ],
             [
              0.8888888888888888,
              "#fdca26"
             ],
             [
              1,
              "#f0f921"
             ]
            ],
            "type": "histogram2d"
           }
          ],
          "histogram2dcontour": [
           {
            "colorbar": {
             "outlinewidth": 0,
             "ticks": ""
            },
            "colorscale": [
             [
              0,
              "#0d0887"
             ],
             [
              0.1111111111111111,
              "#46039f"
             ],
             [
              0.2222222222222222,
              "#7201a8"
             ],
             [
              0.3333333333333333,
              "#9c179e"
             ],
             [
              0.4444444444444444,
              "#bd3786"
             ],
             [
              0.5555555555555556,
              "#d8576b"
             ],
             [
              0.6666666666666666,
              "#ed7953"
             ],
             [
              0.7777777777777778,
              "#fb9f3a"
             ],
             [
              0.8888888888888888,
              "#fdca26"
             ],
             [
              1,
              "#f0f921"
             ]
            ],
            "type": "histogram2dcontour"
           }
          ],
          "mesh3d": [
           {
            "colorbar": {
             "outlinewidth": 0,
             "ticks": ""
            },
            "type": "mesh3d"
           }
          ],
          "parcoords": [
           {
            "line": {
             "colorbar": {
              "outlinewidth": 0,
              "ticks": ""
             }
            },
            "type": "parcoords"
           }
          ],
          "pie": [
           {
            "automargin": true,
            "type": "pie"
           }
          ],
          "scatter": [
           {
            "marker": {
             "line": {
              "color": "#283442"
             }
            },
            "type": "scatter"
           }
          ],
          "scatter3d": [
           {
            "line": {
             "colorbar": {
              "outlinewidth": 0,
              "ticks": ""
             }
            },
            "marker": {
             "colorbar": {
              "outlinewidth": 0,
              "ticks": ""
             }
            },
            "type": "scatter3d"
           }
          ],
          "scattercarpet": [
           {
            "marker": {
             "colorbar": {
              "outlinewidth": 0,
              "ticks": ""
             }
            },
            "type": "scattercarpet"
           }
          ],
          "scattergeo": [
           {
            "marker": {
             "colorbar": {
              "outlinewidth": 0,
              "ticks": ""
             }
            },
            "type": "scattergeo"
           }
          ],
          "scattergl": [
           {
            "marker": {
             "line": {
              "color": "#283442"
             }
            },
            "type": "scattergl"
           }
          ],
          "scattermapbox": [
           {
            "marker": {
             "colorbar": {
              "outlinewidth": 0,
              "ticks": ""
             }
            },
            "type": "scattermapbox"
           }
          ],
          "scatterpolar": [
           {
            "marker": {
             "colorbar": {
              "outlinewidth": 0,
              "ticks": ""
             }
            },
            "type": "scatterpolar"
           }
          ],
          "scatterpolargl": [
           {
            "marker": {
             "colorbar": {
              "outlinewidth": 0,
              "ticks": ""
             }
            },
            "type": "scatterpolargl"
           }
          ],
          "scatterternary": [
           {
            "marker": {
             "colorbar": {
              "outlinewidth": 0,
              "ticks": ""
             }
            },
            "type": "scatterternary"
           }
          ],
          "surface": [
           {
            "colorbar": {
             "outlinewidth": 0,
             "ticks": ""
            },
            "colorscale": [
             [
              0,
              "#0d0887"
             ],
             [
              0.1111111111111111,
              "#46039f"
             ],
             [
              0.2222222222222222,
              "#7201a8"
             ],
             [
              0.3333333333333333,
              "#9c179e"
             ],
             [
              0.4444444444444444,
              "#bd3786"
             ],
             [
              0.5555555555555556,
              "#d8576b"
             ],
             [
              0.6666666666666666,
              "#ed7953"
             ],
             [
              0.7777777777777778,
              "#fb9f3a"
             ],
             [
              0.8888888888888888,
              "#fdca26"
             ],
             [
              1,
              "#f0f921"
             ]
            ],
            "type": "surface"
           }
          ],
          "table": [
           {
            "cells": {
             "fill": {
              "color": "#506784"
             },
             "line": {
              "color": "rgb(17,17,17)"
             }
            },
            "header": {
             "fill": {
              "color": "#2a3f5f"
             },
             "line": {
              "color": "rgb(17,17,17)"
             }
            },
            "type": "table"
           }
          ]
         },
         "layout": {
          "annotationdefaults": {
           "arrowcolor": "#f2f5fa",
           "arrowhead": 0,
           "arrowwidth": 1
          },
          "autotypenumbers": "strict",
          "coloraxis": {
           "colorbar": {
            "outlinewidth": 0,
            "ticks": ""
           }
          },
          "colorscale": {
           "diverging": [
            [
             0,
             "#8e0152"
            ],
            [
             0.1,
             "#c51b7d"
            ],
            [
             0.2,
             "#de77ae"
            ],
            [
             0.3,
             "#f1b6da"
            ],
            [
             0.4,
             "#fde0ef"
            ],
            [
             0.5,
             "#f7f7f7"
            ],
            [
             0.6,
             "#e6f5d0"
            ],
            [
             0.7,
             "#b8e186"
            ],
            [
             0.8,
             "#7fbc41"
            ],
            [
             0.9,
             "#4d9221"
            ],
            [
             1,
             "#276419"
            ]
           ],
           "sequential": [
            [
             0,
             "#0d0887"
            ],
            [
             0.1111111111111111,
             "#46039f"
            ],
            [
             0.2222222222222222,
             "#7201a8"
            ],
            [
             0.3333333333333333,
             "#9c179e"
            ],
            [
             0.4444444444444444,
             "#bd3786"
            ],
            [
             0.5555555555555556,
             "#d8576b"
            ],
            [
             0.6666666666666666,
             "#ed7953"
            ],
            [
             0.7777777777777778,
             "#fb9f3a"
            ],
            [
             0.8888888888888888,
             "#fdca26"
            ],
            [
             1,
             "#f0f921"
            ]
           ],
           "sequentialminus": [
            [
             0,
             "#0d0887"
            ],
            [
             0.1111111111111111,
             "#46039f"
            ],
            [
             0.2222222222222222,
             "#7201a8"
            ],
            [
             0.3333333333333333,
             "#9c179e"
            ],
            [
             0.4444444444444444,
             "#bd3786"
            ],
            [
             0.5555555555555556,
             "#d8576b"
            ],
            [
             0.6666666666666666,
             "#ed7953"
            ],
            [
             0.7777777777777778,
             "#fb9f3a"
            ],
            [
             0.8888888888888888,
             "#fdca26"
            ],
            [
             1,
             "#f0f921"
            ]
           ]
          },
          "colorway": [
           "#636efa",
           "#EF553B",
           "#00cc96",
           "#ab63fa",
           "#FFA15A",
           "#19d3f3",
           "#FF6692",
           "#B6E880",
           "#FF97FF",
           "#FECB52"
          ],
          "font": {
           "color": "#f2f5fa"
          },
          "geo": {
           "bgcolor": "rgb(17,17,17)",
           "lakecolor": "rgb(17,17,17)",
           "landcolor": "rgb(17,17,17)",
           "showlakes": true,
           "showland": true,
           "subunitcolor": "#506784"
          },
          "hoverlabel": {
           "align": "left"
          },
          "hovermode": "closest",
          "mapbox": {
           "style": "dark"
          },
          "paper_bgcolor": "rgb(17,17,17)",
          "plot_bgcolor": "rgb(17,17,17)",
          "polar": {
           "angularaxis": {
            "gridcolor": "#506784",
            "linecolor": "#506784",
            "ticks": ""
           },
           "bgcolor": "rgb(17,17,17)",
           "radialaxis": {
            "gridcolor": "#506784",
            "linecolor": "#506784",
            "ticks": ""
           }
          },
          "scene": {
           "xaxis": {
            "backgroundcolor": "rgb(17,17,17)",
            "gridcolor": "#506784",
            "gridwidth": 2,
            "linecolor": "#506784",
            "showbackground": true,
            "ticks": "",
            "zerolinecolor": "#C8D4E3"
           },
           "yaxis": {
            "backgroundcolor": "rgb(17,17,17)",
            "gridcolor": "#506784",
            "gridwidth": 2,
            "linecolor": "#506784",
            "showbackground": true,
            "ticks": "",
            "zerolinecolor": "#C8D4E3"
           },
           "zaxis": {
            "backgroundcolor": "rgb(17,17,17)",
            "gridcolor": "#506784",
            "gridwidth": 2,
            "linecolor": "#506784",
            "showbackground": true,
            "ticks": "",
            "zerolinecolor": "#C8D4E3"
           }
          },
          "shapedefaults": {
           "line": {
            "color": "#f2f5fa"
           }
          },
          "sliderdefaults": {
           "bgcolor": "#C8D4E3",
           "bordercolor": "rgb(17,17,17)",
           "borderwidth": 1,
           "tickwidth": 0
          },
          "ternary": {
           "aaxis": {
            "gridcolor": "#506784",
            "linecolor": "#506784",
            "ticks": ""
           },
           "baxis": {
            "gridcolor": "#506784",
            "linecolor": "#506784",
            "ticks": ""
           },
           "bgcolor": "rgb(17,17,17)",
           "caxis": {
            "gridcolor": "#506784",
            "linecolor": "#506784",
            "ticks": ""
           }
          },
          "title": {
           "x": 0.05
          },
          "updatemenudefaults": {
           "bgcolor": "#506784",
           "borderwidth": 0
          },
          "xaxis": {
           "automargin": true,
           "gridcolor": "#283442",
           "linecolor": "#506784",
           "ticks": "",
           "title": {
            "standoff": 15
           },
           "zerolinecolor": "#283442",
           "zerolinewidth": 2
          },
          "yaxis": {
           "automargin": true,
           "gridcolor": "#283442",
           "linecolor": "#506784",
           "ticks": "",
           "title": {
            "standoff": 15
           },
           "zerolinecolor": "#283442",
           "zerolinewidth": 2
          }
         }
        },
        "title": {
         "text": "Number of Women in Each Year of the Summer Olympics"
        },
        "xaxis": {
         "anchor": "y",
         "domain": [
          0,
          1
         ],
         "title": {
          "text": "Year"
         }
        },
        "yaxis": {
         "anchor": "x",
         "domain": [
          0,
          1
         ],
         "title": {
          "text": "Number of Women"
         }
        }
       }
      },
      "text/html": [
       "<div>                            <div id=\"b9c31f3c-0194-4e0e-a25c-e3eb81b51944\" class=\"plotly-graph-div\" style=\"height:525px; width:100%;\"></div>            <script type=\"text/javascript\">                require([\"plotly\"], function(Plotly) {                    window.PLOTLYENV=window.PLOTLYENV || {};                                    if (document.getElementById(\"b9c31f3c-0194-4e0e-a25c-e3eb81b51944\")) {                    Plotly.newPlot(                        \"b9c31f3c-0194-4e0e-a25c-e3eb81b51944\",                        [{\"alignmentgroup\":\"True\",\"hovertemplate\":\"Year=%{x}<br>Number of Women=%{y}<extra></extra>\",\"legendgroup\":\"\",\"marker\":{\"color\":\"#636efa\",\"pattern\":{\"shape\":\"\"}},\"name\":\"\",\"offsetgroup\":\"\",\"orientation\":\"v\",\"showlegend\":false,\"textposition\":\"auto\",\"x\":[1900,1904,1906,1908,1912,1920,1924,1928,1932,1936,1948,1952,1956,1960,1964,1968,1972,1976,1980,1984,1988,1992,1996,2000,2004,2008,2012,2016],\"xaxis\":\"x\",\"y\":[33,16,11,47,87,134,244,404,347,468,628,1495,890,1435,1348,1777,2190,2171,1756,2447,3542,4110,4998,5418,5531,5793,5791,6203],\"yaxis\":\"y\",\"type\":\"bar\"}],                        {\"template\":{\"data\":{\"histogram2dcontour\":[{\"type\":\"histogram2dcontour\",\"colorbar\":{\"outlinewidth\":0,\"ticks\":\"\"},\"colorscale\":[[0.0,\"#0d0887\"],[0.1111111111111111,\"#46039f\"],[0.2222222222222222,\"#7201a8\"],[0.3333333333333333,\"#9c179e\"],[0.4444444444444444,\"#bd3786\"],[0.5555555555555556,\"#d8576b\"],[0.6666666666666666,\"#ed7953\"],[0.7777777777777778,\"#fb9f3a\"],[0.8888888888888888,\"#fdca26\"],[1.0,\"#f0f921\"]]}],\"choropleth\":[{\"type\":\"choropleth\",\"colorbar\":{\"outlinewidth\":0,\"ticks\":\"\"}}],\"histogram2d\":[{\"type\":\"histogram2d\",\"colorbar\":{\"outlinewidth\":0,\"ticks\":\"\"},\"colorscale\":[[0.0,\"#0d0887\"],[0.1111111111111111,\"#46039f\"],[0.2222222222222222,\"#7201a8\"],[0.3333333333333333,\"#9c179e\"],[0.4444444444444444,\"#bd3786\"],[0.5555555555555556,\"#d8576b\"],[0.6666666666666666,\"#ed7953\"],[0.7777777777777778,\"#fb9f3a\"],[0.8888888888888888,\"#fdca26\"],[1.0,\"#f0f921\"]]}],\"heatmap\":[{\"type\":\"heatmap\",\"colorbar\":{\"outlinewidth\":0,\"ticks\":\"\"},\"colorscale\":[[0.0,\"#0d0887\"],[0.1111111111111111,\"#46039f\"],[0.2222222222222222,\"#7201a8\"],[0.3333333333333333,\"#9c179e\"],[0.4444444444444444,\"#bd3786\"],[0.5555555555555556,\"#d8576b\"],[0.6666666666666666,\"#ed7953\"],[0.7777777777777778,\"#fb9f3a\"],[0.8888888888888888,\"#fdca26\"],[1.0,\"#f0f921\"]]}],\"heatmapgl\":[{\"type\":\"heatmapgl\",\"colorbar\":{\"outlinewidth\":0,\"ticks\":\"\"},\"colorscale\":[[0.0,\"#0d0887\"],[0.1111111111111111,\"#46039f\"],[0.2222222222222222,\"#7201a8\"],[0.3333333333333333,\"#9c179e\"],[0.4444444444444444,\"#bd3786\"],[0.5555555555555556,\"#d8576b\"],[0.6666666666666666,\"#ed7953\"],[0.7777777777777778,\"#fb9f3a\"],[0.8888888888888888,\"#fdca26\"],[1.0,\"#f0f921\"]]}],\"contourcarpet\":[{\"type\":\"contourcarpet\",\"colorbar\":{\"outlinewidth\":0,\"ticks\":\"\"}}],\"contour\":[{\"type\":\"contour\",\"colorbar\":{\"outlinewidth\":0,\"ticks\":\"\"},\"colorscale\":[[0.0,\"#0d0887\"],[0.1111111111111111,\"#46039f\"],[0.2222222222222222,\"#7201a8\"],[0.3333333333333333,\"#9c179e\"],[0.4444444444444444,\"#bd3786\"],[0.5555555555555556,\"#d8576b\"],[0.6666666666666666,\"#ed7953\"],[0.7777777777777778,\"#fb9f3a\"],[0.8888888888888888,\"#fdca26\"],[1.0,\"#f0f921\"]]}],\"surface\":[{\"type\":\"surface\",\"colorbar\":{\"outlinewidth\":0,\"ticks\":\"\"},\"colorscale\":[[0.0,\"#0d0887\"],[0.1111111111111111,\"#46039f\"],[0.2222222222222222,\"#7201a8\"],[0.3333333333333333,\"#9c179e\"],[0.4444444444444444,\"#bd3786\"],[0.5555555555555556,\"#d8576b\"],[0.6666666666666666,\"#ed7953\"],[0.7777777777777778,\"#fb9f3a\"],[0.8888888888888888,\"#fdca26\"],[1.0,\"#f0f921\"]]}],\"mesh3d\":[{\"type\":\"mesh3d\",\"colorbar\":{\"outlinewidth\":0,\"ticks\":\"\"}}],\"scatter\":[{\"marker\":{\"line\":{\"color\":\"#283442\"}},\"type\":\"scatter\"}],\"parcoords\":[{\"type\":\"parcoords\",\"line\":{\"colorbar\":{\"outlinewidth\":0,\"ticks\":\"\"}}}],\"scatterpolargl\":[{\"type\":\"scatterpolargl\",\"marker\":{\"colorbar\":{\"outlinewidth\":0,\"ticks\":\"\"}}}],\"bar\":[{\"error_x\":{\"color\":\"#f2f5fa\"},\"error_y\":{\"color\":\"#f2f5fa\"},\"marker\":{\"line\":{\"color\":\"rgb(17,17,17)\",\"width\":0.5},\"pattern\":{\"fillmode\":\"overlay\",\"size\":10,\"solidity\":0.2}},\"type\":\"bar\"}],\"scattergeo\":[{\"type\":\"scattergeo\",\"marker\":{\"colorbar\":{\"outlinewidth\":0,\"ticks\":\"\"}}}],\"scatterpolar\":[{\"type\":\"scatterpolar\",\"marker\":{\"colorbar\":{\"outlinewidth\":0,\"ticks\":\"\"}}}],\"histogram\":[{\"marker\":{\"pattern\":{\"fillmode\":\"overlay\",\"size\":10,\"solidity\":0.2}},\"type\":\"histogram\"}],\"scattergl\":[{\"marker\":{\"line\":{\"color\":\"#283442\"}},\"type\":\"scattergl\"}],\"scatter3d\":[{\"type\":\"scatter3d\",\"line\":{\"colorbar\":{\"outlinewidth\":0,\"ticks\":\"\"}},\"marker\":{\"colorbar\":{\"outlinewidth\":0,\"ticks\":\"\"}}}],\"scattermapbox\":[{\"type\":\"scattermapbox\",\"marker\":{\"colorbar\":{\"outlinewidth\":0,\"ticks\":\"\"}}}],\"scatterternary\":[{\"type\":\"scatterternary\",\"marker\":{\"colorbar\":{\"outlinewidth\":0,\"ticks\":\"\"}}}],\"scattercarpet\":[{\"type\":\"scattercarpet\",\"marker\":{\"colorbar\":{\"outlinewidth\":0,\"ticks\":\"\"}}}],\"carpet\":[{\"aaxis\":{\"endlinecolor\":\"#A2B1C6\",\"gridcolor\":\"#506784\",\"linecolor\":\"#506784\",\"minorgridcolor\":\"#506784\",\"startlinecolor\":\"#A2B1C6\"},\"baxis\":{\"endlinecolor\":\"#A2B1C6\",\"gridcolor\":\"#506784\",\"linecolor\":\"#506784\",\"minorgridcolor\":\"#506784\",\"startlinecolor\":\"#A2B1C6\"},\"type\":\"carpet\"}],\"table\":[{\"cells\":{\"fill\":{\"color\":\"#506784\"},\"line\":{\"color\":\"rgb(17,17,17)\"}},\"header\":{\"fill\":{\"color\":\"#2a3f5f\"},\"line\":{\"color\":\"rgb(17,17,17)\"}},\"type\":\"table\"}],\"barpolar\":[{\"marker\":{\"line\":{\"color\":\"rgb(17,17,17)\",\"width\":0.5},\"pattern\":{\"fillmode\":\"overlay\",\"size\":10,\"solidity\":0.2}},\"type\":\"barpolar\"}],\"pie\":[{\"automargin\":true,\"type\":\"pie\"}]},\"layout\":{\"autotypenumbers\":\"strict\",\"colorway\":[\"#636efa\",\"#EF553B\",\"#00cc96\",\"#ab63fa\",\"#FFA15A\",\"#19d3f3\",\"#FF6692\",\"#B6E880\",\"#FF97FF\",\"#FECB52\"],\"font\":{\"color\":\"#f2f5fa\"},\"hovermode\":\"closest\",\"hoverlabel\":{\"align\":\"left\"},\"paper_bgcolor\":\"rgb(17,17,17)\",\"plot_bgcolor\":\"rgb(17,17,17)\",\"polar\":{\"bgcolor\":\"rgb(17,17,17)\",\"angularaxis\":{\"gridcolor\":\"#506784\",\"linecolor\":\"#506784\",\"ticks\":\"\"},\"radialaxis\":{\"gridcolor\":\"#506784\",\"linecolor\":\"#506784\",\"ticks\":\"\"}},\"ternary\":{\"bgcolor\":\"rgb(17,17,17)\",\"aaxis\":{\"gridcolor\":\"#506784\",\"linecolor\":\"#506784\",\"ticks\":\"\"},\"baxis\":{\"gridcolor\":\"#506784\",\"linecolor\":\"#506784\",\"ticks\":\"\"},\"caxis\":{\"gridcolor\":\"#506784\",\"linecolor\":\"#506784\",\"ticks\":\"\"}},\"coloraxis\":{\"colorbar\":{\"outlinewidth\":0,\"ticks\":\"\"}},\"colorscale\":{\"sequential\":[[0.0,\"#0d0887\"],[0.1111111111111111,\"#46039f\"],[0.2222222222222222,\"#7201a8\"],[0.3333333333333333,\"#9c179e\"],[0.4444444444444444,\"#bd3786\"],[0.5555555555555556,\"#d8576b\"],[0.6666666666666666,\"#ed7953\"],[0.7777777777777778,\"#fb9f3a\"],[0.8888888888888888,\"#fdca26\"],[1.0,\"#f0f921\"]],\"sequentialminus\":[[0.0,\"#0d0887\"],[0.1111111111111111,\"#46039f\"],[0.2222222222222222,\"#7201a8\"],[0.3333333333333333,\"#9c179e\"],[0.4444444444444444,\"#bd3786\"],[0.5555555555555556,\"#d8576b\"],[0.6666666666666666,\"#ed7953\"],[0.7777777777777778,\"#fb9f3a\"],[0.8888888888888888,\"#fdca26\"],[1.0,\"#f0f921\"]],\"diverging\":[[0,\"#8e0152\"],[0.1,\"#c51b7d\"],[0.2,\"#de77ae\"],[0.3,\"#f1b6da\"],[0.4,\"#fde0ef\"],[0.5,\"#f7f7f7\"],[0.6,\"#e6f5d0\"],[0.7,\"#b8e186\"],[0.8,\"#7fbc41\"],[0.9,\"#4d9221\"],[1,\"#276419\"]]},\"xaxis\":{\"gridcolor\":\"#283442\",\"linecolor\":\"#506784\",\"ticks\":\"\",\"title\":{\"standoff\":15},\"zerolinecolor\":\"#283442\",\"automargin\":true,\"zerolinewidth\":2},\"yaxis\":{\"gridcolor\":\"#283442\",\"linecolor\":\"#506784\",\"ticks\":\"\",\"title\":{\"standoff\":15},\"zerolinecolor\":\"#283442\",\"automargin\":true,\"zerolinewidth\":2},\"scene\":{\"xaxis\":{\"backgroundcolor\":\"rgb(17,17,17)\",\"gridcolor\":\"#506784\",\"linecolor\":\"#506784\",\"showbackground\":true,\"ticks\":\"\",\"zerolinecolor\":\"#C8D4E3\",\"gridwidth\":2},\"yaxis\":{\"backgroundcolor\":\"rgb(17,17,17)\",\"gridcolor\":\"#506784\",\"linecolor\":\"#506784\",\"showbackground\":true,\"ticks\":\"\",\"zerolinecolor\":\"#C8D4E3\",\"gridwidth\":2},\"zaxis\":{\"backgroundcolor\":\"rgb(17,17,17)\",\"gridcolor\":\"#506784\",\"linecolor\":\"#506784\",\"showbackground\":true,\"ticks\":\"\",\"zerolinecolor\":\"#C8D4E3\",\"gridwidth\":2}},\"shapedefaults\":{\"line\":{\"color\":\"#f2f5fa\"}},\"annotationdefaults\":{\"arrowcolor\":\"#f2f5fa\",\"arrowhead\":0,\"arrowwidth\":1},\"geo\":{\"bgcolor\":\"rgb(17,17,17)\",\"landcolor\":\"rgb(17,17,17)\",\"subunitcolor\":\"#506784\",\"showland\":true,\"showlakes\":true,\"lakecolor\":\"rgb(17,17,17)\"},\"title\":{\"x\":0.05},\"updatemenudefaults\":{\"bgcolor\":\"#506784\",\"borderwidth\":0},\"sliderdefaults\":{\"bgcolor\":\"#C8D4E3\",\"borderwidth\":1,\"bordercolor\":\"rgb(17,17,17)\",\"tickwidth\":0},\"mapbox\":{\"style\":\"dark\"}}},\"xaxis\":{\"anchor\":\"y\",\"domain\":[0.0,1.0],\"title\":{\"text\":\"Year\"}},\"yaxis\":{\"anchor\":\"x\",\"domain\":[0.0,1.0],\"title\":{\"text\":\"Number of Women\"}},\"legend\":{\"tracegroupgap\":0},\"title\":{\"text\":\"Number of Women in Each Year of the Summer Olympics\"},\"barmode\":\"relative\"},                        {\"responsive\": true}                    ).then(function(){\n",
       "                            \n",
       "var gd = document.getElementById('b9c31f3c-0194-4e0e-a25c-e3eb81b51944');\n",
       "var x = new MutationObserver(function (mutations, observer) {{\n",
       "        var display = window.getComputedStyle(gd).display;\n",
       "        if (!display || display === 'none') {{\n",
       "            console.log([gd, 'removed!']);\n",
       "            Plotly.purge(gd);\n",
       "            observer.disconnect();\n",
       "        }}\n",
       "}});\n",
       "\n",
       "// Listen for the removal of the full notebook cells\n",
       "var notebookContainer = gd.closest('#notebook-container');\n",
       "if (notebookContainer) {{\n",
       "    x.observe(notebookContainer, {childList: true});\n",
       "}}\n",
       "\n",
       "// Listen for the clearing of the current output cell\n",
       "var outputEl = gd.closest('.output');\n",
       "if (outputEl) {{\n",
       "    x.observe(outputEl, {childList: true});\n",
       "}}\n",
       "\n",
       "                        })                };                });            </script>        </div>"
      ]
     },
     "metadata": {},
     "output_type": "display_data"
    },
    {
     "data": {
      "application/vnd.plotly.v1+json": {
       "config": {
        "plotlyServerURL": "https://plot.ly"
       },
       "data": [
        {
         "alignmentgroup": "True",
         "hovertemplate": "Year=%{x}<br>Number of Women=%{y}<extra></extra>",
         "legendgroup": "",
         "marker": {
          "color": "#636efa",
          "pattern": {
           "shape": ""
          }
         },
         "name": "",
         "offsetgroup": "",
         "orientation": "v",
         "showlegend": false,
         "textposition": "auto",
         "type": "bar",
         "x": [
          1924,
          1928,
          1932,
          1936,
          1948,
          1952,
          1956,
          1960,
          1964,
          1968,
          1972,
          1976,
          1980,
          1984,
          1988,
          1992,
          1994,
          1998,
          2002,
          2006,
          2010,
          2014
         ],
         "xaxis": "x",
         "y": [
          17,
          33,
          22,
          81,
          133,
          185,
          246,
          295,
          404,
          416,
          415,
          434,
          430,
          536,
          680,
          1054,
          1105,
          1384,
          1582,
          1757,
          1847,
          2023
         ],
         "yaxis": "y"
        }
       ],
       "layout": {
        "barmode": "relative",
        "legend": {
         "tracegroupgap": 0
        },
        "template": {
         "data": {
          "bar": [
           {
            "error_x": {
             "color": "#f2f5fa"
            },
            "error_y": {
             "color": "#f2f5fa"
            },
            "marker": {
             "line": {
              "color": "rgb(17,17,17)",
              "width": 0.5
             },
             "pattern": {
              "fillmode": "overlay",
              "size": 10,
              "solidity": 0.2
             }
            },
            "type": "bar"
           }
          ],
          "barpolar": [
           {
            "marker": {
             "line": {
              "color": "rgb(17,17,17)",
              "width": 0.5
             },
             "pattern": {
              "fillmode": "overlay",
              "size": 10,
              "solidity": 0.2
             }
            },
            "type": "barpolar"
           }
          ],
          "carpet": [
           {
            "aaxis": {
             "endlinecolor": "#A2B1C6",
             "gridcolor": "#506784",
             "linecolor": "#506784",
             "minorgridcolor": "#506784",
             "startlinecolor": "#A2B1C6"
            },
            "baxis": {
             "endlinecolor": "#A2B1C6",
             "gridcolor": "#506784",
             "linecolor": "#506784",
             "minorgridcolor": "#506784",
             "startlinecolor": "#A2B1C6"
            },
            "type": "carpet"
           }
          ],
          "choropleth": [
           {
            "colorbar": {
             "outlinewidth": 0,
             "ticks": ""
            },
            "type": "choropleth"
           }
          ],
          "contour": [
           {
            "colorbar": {
             "outlinewidth": 0,
             "ticks": ""
            },
            "colorscale": [
             [
              0,
              "#0d0887"
             ],
             [
              0.1111111111111111,
              "#46039f"
             ],
             [
              0.2222222222222222,
              "#7201a8"
             ],
             [
              0.3333333333333333,
              "#9c179e"
             ],
             [
              0.4444444444444444,
              "#bd3786"
             ],
             [
              0.5555555555555556,
              "#d8576b"
             ],
             [
              0.6666666666666666,
              "#ed7953"
             ],
             [
              0.7777777777777778,
              "#fb9f3a"
             ],
             [
              0.8888888888888888,
              "#fdca26"
             ],
             [
              1,
              "#f0f921"
             ]
            ],
            "type": "contour"
           }
          ],
          "contourcarpet": [
           {
            "colorbar": {
             "outlinewidth": 0,
             "ticks": ""
            },
            "type": "contourcarpet"
           }
          ],
          "heatmap": [
           {
            "colorbar": {
             "outlinewidth": 0,
             "ticks": ""
            },
            "colorscale": [
             [
              0,
              "#0d0887"
             ],
             [
              0.1111111111111111,
              "#46039f"
             ],
             [
              0.2222222222222222,
              "#7201a8"
             ],
             [
              0.3333333333333333,
              "#9c179e"
             ],
             [
              0.4444444444444444,
              "#bd3786"
             ],
             [
              0.5555555555555556,
              "#d8576b"
             ],
             [
              0.6666666666666666,
              "#ed7953"
             ],
             [
              0.7777777777777778,
              "#fb9f3a"
             ],
             [
              0.8888888888888888,
              "#fdca26"
             ],
             [
              1,
              "#f0f921"
             ]
            ],
            "type": "heatmap"
           }
          ],
          "heatmapgl": [
           {
            "colorbar": {
             "outlinewidth": 0,
             "ticks": ""
            },
            "colorscale": [
             [
              0,
              "#0d0887"
             ],
             [
              0.1111111111111111,
              "#46039f"
             ],
             [
              0.2222222222222222,
              "#7201a8"
             ],
             [
              0.3333333333333333,
              "#9c179e"
             ],
             [
              0.4444444444444444,
              "#bd3786"
             ],
             [
              0.5555555555555556,
              "#d8576b"
             ],
             [
              0.6666666666666666,
              "#ed7953"
             ],
             [
              0.7777777777777778,
              "#fb9f3a"
             ],
             [
              0.8888888888888888,
              "#fdca26"
             ],
             [
              1,
              "#f0f921"
             ]
            ],
            "type": "heatmapgl"
           }
          ],
          "histogram": [
           {
            "marker": {
             "pattern": {
              "fillmode": "overlay",
              "size": 10,
              "solidity": 0.2
             }
            },
            "type": "histogram"
           }
          ],
          "histogram2d": [
           {
            "colorbar": {
             "outlinewidth": 0,
             "ticks": ""
            },
            "colorscale": [
             [
              0,
              "#0d0887"
             ],
             [
              0.1111111111111111,
              "#46039f"
             ],
             [
              0.2222222222222222,
              "#7201a8"
             ],
             [
              0.3333333333333333,
              "#9c179e"
             ],
             [
              0.4444444444444444,
              "#bd3786"
             ],
             [
              0.5555555555555556,
              "#d8576b"
             ],
             [
              0.6666666666666666,
              "#ed7953"
             ],
             [
              0.7777777777777778,
              "#fb9f3a"
             ],
             [
              0.8888888888888888,
              "#fdca26"
             ],
             [
              1,
              "#f0f921"
             ]
            ],
            "type": "histogram2d"
           }
          ],
          "histogram2dcontour": [
           {
            "colorbar": {
             "outlinewidth": 0,
             "ticks": ""
            },
            "colorscale": [
             [
              0,
              "#0d0887"
             ],
             [
              0.1111111111111111,
              "#46039f"
             ],
             [
              0.2222222222222222,
              "#7201a8"
             ],
             [
              0.3333333333333333,
              "#9c179e"
             ],
             [
              0.4444444444444444,
              "#bd3786"
             ],
             [
              0.5555555555555556,
              "#d8576b"
             ],
             [
              0.6666666666666666,
              "#ed7953"
             ],
             [
              0.7777777777777778,
              "#fb9f3a"
             ],
             [
              0.8888888888888888,
              "#fdca26"
             ],
             [
              1,
              "#f0f921"
             ]
            ],
            "type": "histogram2dcontour"
           }
          ],
          "mesh3d": [
           {
            "colorbar": {
             "outlinewidth": 0,
             "ticks": ""
            },
            "type": "mesh3d"
           }
          ],
          "parcoords": [
           {
            "line": {
             "colorbar": {
              "outlinewidth": 0,
              "ticks": ""
             }
            },
            "type": "parcoords"
           }
          ],
          "pie": [
           {
            "automargin": true,
            "type": "pie"
           }
          ],
          "scatter": [
           {
            "marker": {
             "line": {
              "color": "#283442"
             }
            },
            "type": "scatter"
           }
          ],
          "scatter3d": [
           {
            "line": {
             "colorbar": {
              "outlinewidth": 0,
              "ticks": ""
             }
            },
            "marker": {
             "colorbar": {
              "outlinewidth": 0,
              "ticks": ""
             }
            },
            "type": "scatter3d"
           }
          ],
          "scattercarpet": [
           {
            "marker": {
             "colorbar": {
              "outlinewidth": 0,
              "ticks": ""
             }
            },
            "type": "scattercarpet"
           }
          ],
          "scattergeo": [
           {
            "marker": {
             "colorbar": {
              "outlinewidth": 0,
              "ticks": ""
             }
            },
            "type": "scattergeo"
           }
          ],
          "scattergl": [
           {
            "marker": {
             "line": {
              "color": "#283442"
             }
            },
            "type": "scattergl"
           }
          ],
          "scattermapbox": [
           {
            "marker": {
             "colorbar": {
              "outlinewidth": 0,
              "ticks": ""
             }
            },
            "type": "scattermapbox"
           }
          ],
          "scatterpolar": [
           {
            "marker": {
             "colorbar": {
              "outlinewidth": 0,
              "ticks": ""
             }
            },
            "type": "scatterpolar"
           }
          ],
          "scatterpolargl": [
           {
            "marker": {
             "colorbar": {
              "outlinewidth": 0,
              "ticks": ""
             }
            },
            "type": "scatterpolargl"
           }
          ],
          "scatterternary": [
           {
            "marker": {
             "colorbar": {
              "outlinewidth": 0,
              "ticks": ""
             }
            },
            "type": "scatterternary"
           }
          ],
          "surface": [
           {
            "colorbar": {
             "outlinewidth": 0,
             "ticks": ""
            },
            "colorscale": [
             [
              0,
              "#0d0887"
             ],
             [
              0.1111111111111111,
              "#46039f"
             ],
             [
              0.2222222222222222,
              "#7201a8"
             ],
             [
              0.3333333333333333,
              "#9c179e"
             ],
             [
              0.4444444444444444,
              "#bd3786"
             ],
             [
              0.5555555555555556,
              "#d8576b"
             ],
             [
              0.6666666666666666,
              "#ed7953"
             ],
             [
              0.7777777777777778,
              "#fb9f3a"
             ],
             [
              0.8888888888888888,
              "#fdca26"
             ],
             [
              1,
              "#f0f921"
             ]
            ],
            "type": "surface"
           }
          ],
          "table": [
           {
            "cells": {
             "fill": {
              "color": "#506784"
             },
             "line": {
              "color": "rgb(17,17,17)"
             }
            },
            "header": {
             "fill": {
              "color": "#2a3f5f"
             },
             "line": {
              "color": "rgb(17,17,17)"
             }
            },
            "type": "table"
           }
          ]
         },
         "layout": {
          "annotationdefaults": {
           "arrowcolor": "#f2f5fa",
           "arrowhead": 0,
           "arrowwidth": 1
          },
          "autotypenumbers": "strict",
          "coloraxis": {
           "colorbar": {
            "outlinewidth": 0,
            "ticks": ""
           }
          },
          "colorscale": {
           "diverging": [
            [
             0,
             "#8e0152"
            ],
            [
             0.1,
             "#c51b7d"
            ],
            [
             0.2,
             "#de77ae"
            ],
            [
             0.3,
             "#f1b6da"
            ],
            [
             0.4,
             "#fde0ef"
            ],
            [
             0.5,
             "#f7f7f7"
            ],
            [
             0.6,
             "#e6f5d0"
            ],
            [
             0.7,
             "#b8e186"
            ],
            [
             0.8,
             "#7fbc41"
            ],
            [
             0.9,
             "#4d9221"
            ],
            [
             1,
             "#276419"
            ]
           ],
           "sequential": [
            [
             0,
             "#0d0887"
            ],
            [
             0.1111111111111111,
             "#46039f"
            ],
            [
             0.2222222222222222,
             "#7201a8"
            ],
            [
             0.3333333333333333,
             "#9c179e"
            ],
            [
             0.4444444444444444,
             "#bd3786"
            ],
            [
             0.5555555555555556,
             "#d8576b"
            ],
            [
             0.6666666666666666,
             "#ed7953"
            ],
            [
             0.7777777777777778,
             "#fb9f3a"
            ],
            [
             0.8888888888888888,
             "#fdca26"
            ],
            [
             1,
             "#f0f921"
            ]
           ],
           "sequentialminus": [
            [
             0,
             "#0d0887"
            ],
            [
             0.1111111111111111,
             "#46039f"
            ],
            [
             0.2222222222222222,
             "#7201a8"
            ],
            [
             0.3333333333333333,
             "#9c179e"
            ],
            [
             0.4444444444444444,
             "#bd3786"
            ],
            [
             0.5555555555555556,
             "#d8576b"
            ],
            [
             0.6666666666666666,
             "#ed7953"
            ],
            [
             0.7777777777777778,
             "#fb9f3a"
            ],
            [
             0.8888888888888888,
             "#fdca26"
            ],
            [
             1,
             "#f0f921"
            ]
           ]
          },
          "colorway": [
           "#636efa",
           "#EF553B",
           "#00cc96",
           "#ab63fa",
           "#FFA15A",
           "#19d3f3",
           "#FF6692",
           "#B6E880",
           "#FF97FF",
           "#FECB52"
          ],
          "font": {
           "color": "#f2f5fa"
          },
          "geo": {
           "bgcolor": "rgb(17,17,17)",
           "lakecolor": "rgb(17,17,17)",
           "landcolor": "rgb(17,17,17)",
           "showlakes": true,
           "showland": true,
           "subunitcolor": "#506784"
          },
          "hoverlabel": {
           "align": "left"
          },
          "hovermode": "closest",
          "mapbox": {
           "style": "dark"
          },
          "paper_bgcolor": "rgb(17,17,17)",
          "plot_bgcolor": "rgb(17,17,17)",
          "polar": {
           "angularaxis": {
            "gridcolor": "#506784",
            "linecolor": "#506784",
            "ticks": ""
           },
           "bgcolor": "rgb(17,17,17)",
           "radialaxis": {
            "gridcolor": "#506784",
            "linecolor": "#506784",
            "ticks": ""
           }
          },
          "scene": {
           "xaxis": {
            "backgroundcolor": "rgb(17,17,17)",
            "gridcolor": "#506784",
            "gridwidth": 2,
            "linecolor": "#506784",
            "showbackground": true,
            "ticks": "",
            "zerolinecolor": "#C8D4E3"
           },
           "yaxis": {
            "backgroundcolor": "rgb(17,17,17)",
            "gridcolor": "#506784",
            "gridwidth": 2,
            "linecolor": "#506784",
            "showbackground": true,
            "ticks": "",
            "zerolinecolor": "#C8D4E3"
           },
           "zaxis": {
            "backgroundcolor": "rgb(17,17,17)",
            "gridcolor": "#506784",
            "gridwidth": 2,
            "linecolor": "#506784",
            "showbackground": true,
            "ticks": "",
            "zerolinecolor": "#C8D4E3"
           }
          },
          "shapedefaults": {
           "line": {
            "color": "#f2f5fa"
           }
          },
          "sliderdefaults": {
           "bgcolor": "#C8D4E3",
           "bordercolor": "rgb(17,17,17)",
           "borderwidth": 1,
           "tickwidth": 0
          },
          "ternary": {
           "aaxis": {
            "gridcolor": "#506784",
            "linecolor": "#506784",
            "ticks": ""
           },
           "baxis": {
            "gridcolor": "#506784",
            "linecolor": "#506784",
            "ticks": ""
           },
           "bgcolor": "rgb(17,17,17)",
           "caxis": {
            "gridcolor": "#506784",
            "linecolor": "#506784",
            "ticks": ""
           }
          },
          "title": {
           "x": 0.05
          },
          "updatemenudefaults": {
           "bgcolor": "#506784",
           "borderwidth": 0
          },
          "xaxis": {
           "automargin": true,
           "gridcolor": "#283442",
           "linecolor": "#506784",
           "ticks": "",
           "title": {
            "standoff": 15
           },
           "zerolinecolor": "#283442",
           "zerolinewidth": 2
          },
          "yaxis": {
           "automargin": true,
           "gridcolor": "#283442",
           "linecolor": "#506784",
           "ticks": "",
           "title": {
            "standoff": 15
           },
           "zerolinecolor": "#283442",
           "zerolinewidth": 2
          }
         }
        },
        "title": {
         "text": "Number of Women in Each Year of the Winter Olympics"
        },
        "xaxis": {
         "anchor": "y",
         "domain": [
          0,
          1
         ],
         "title": {
          "text": "Year"
         }
        },
        "yaxis": {
         "anchor": "x",
         "domain": [
          0,
          1
         ],
         "title": {
          "text": "Number of Women"
         }
        }
       }
      },
      "text/html": [
       "<div>                            <div id=\"3c51331c-383f-4341-8f3c-7eb15ca3cd78\" class=\"plotly-graph-div\" style=\"height:525px; width:100%;\"></div>            <script type=\"text/javascript\">                require([\"plotly\"], function(Plotly) {                    window.PLOTLYENV=window.PLOTLYENV || {};                                    if (document.getElementById(\"3c51331c-383f-4341-8f3c-7eb15ca3cd78\")) {                    Plotly.newPlot(                        \"3c51331c-383f-4341-8f3c-7eb15ca3cd78\",                        [{\"alignmentgroup\":\"True\",\"hovertemplate\":\"Year=%{x}<br>Number of Women=%{y}<extra></extra>\",\"legendgroup\":\"\",\"marker\":{\"color\":\"#636efa\",\"pattern\":{\"shape\":\"\"}},\"name\":\"\",\"offsetgroup\":\"\",\"orientation\":\"v\",\"showlegend\":false,\"textposition\":\"auto\",\"x\":[1924,1928,1932,1936,1948,1952,1956,1960,1964,1968,1972,1976,1980,1984,1988,1992,1994,1998,2002,2006,2010,2014],\"xaxis\":\"x\",\"y\":[17,33,22,81,133,185,246,295,404,416,415,434,430,536,680,1054,1105,1384,1582,1757,1847,2023],\"yaxis\":\"y\",\"type\":\"bar\"}],                        {\"template\":{\"data\":{\"histogram2dcontour\":[{\"type\":\"histogram2dcontour\",\"colorbar\":{\"outlinewidth\":0,\"ticks\":\"\"},\"colorscale\":[[0.0,\"#0d0887\"],[0.1111111111111111,\"#46039f\"],[0.2222222222222222,\"#7201a8\"],[0.3333333333333333,\"#9c179e\"],[0.4444444444444444,\"#bd3786\"],[0.5555555555555556,\"#d8576b\"],[0.6666666666666666,\"#ed7953\"],[0.7777777777777778,\"#fb9f3a\"],[0.8888888888888888,\"#fdca26\"],[1.0,\"#f0f921\"]]}],\"choropleth\":[{\"type\":\"choropleth\",\"colorbar\":{\"outlinewidth\":0,\"ticks\":\"\"}}],\"histogram2d\":[{\"type\":\"histogram2d\",\"colorbar\":{\"outlinewidth\":0,\"ticks\":\"\"},\"colorscale\":[[0.0,\"#0d0887\"],[0.1111111111111111,\"#46039f\"],[0.2222222222222222,\"#7201a8\"],[0.3333333333333333,\"#9c179e\"],[0.4444444444444444,\"#bd3786\"],[0.5555555555555556,\"#d8576b\"],[0.6666666666666666,\"#ed7953\"],[0.7777777777777778,\"#fb9f3a\"],[0.8888888888888888,\"#fdca26\"],[1.0,\"#f0f921\"]]}],\"heatmap\":[{\"type\":\"heatmap\",\"colorbar\":{\"outlinewidth\":0,\"ticks\":\"\"},\"colorscale\":[[0.0,\"#0d0887\"],[0.1111111111111111,\"#46039f\"],[0.2222222222222222,\"#7201a8\"],[0.3333333333333333,\"#9c179e\"],[0.4444444444444444,\"#bd3786\"],[0.5555555555555556,\"#d8576b\"],[0.6666666666666666,\"#ed7953\"],[0.7777777777777778,\"#fb9f3a\"],[0.8888888888888888,\"#fdca26\"],[1.0,\"#f0f921\"]]}],\"heatmapgl\":[{\"type\":\"heatmapgl\",\"colorbar\":{\"outlinewidth\":0,\"ticks\":\"\"},\"colorscale\":[[0.0,\"#0d0887\"],[0.1111111111111111,\"#46039f\"],[0.2222222222222222,\"#7201a8\"],[0.3333333333333333,\"#9c179e\"],[0.4444444444444444,\"#bd3786\"],[0.5555555555555556,\"#d8576b\"],[0.6666666666666666,\"#ed7953\"],[0.7777777777777778,\"#fb9f3a\"],[0.8888888888888888,\"#fdca26\"],[1.0,\"#f0f921\"]]}],\"contourcarpet\":[{\"type\":\"contourcarpet\",\"colorbar\":{\"outlinewidth\":0,\"ticks\":\"\"}}],\"contour\":[{\"type\":\"contour\",\"colorbar\":{\"outlinewidth\":0,\"ticks\":\"\"},\"colorscale\":[[0.0,\"#0d0887\"],[0.1111111111111111,\"#46039f\"],[0.2222222222222222,\"#7201a8\"],[0.3333333333333333,\"#9c179e\"],[0.4444444444444444,\"#bd3786\"],[0.5555555555555556,\"#d8576b\"],[0.6666666666666666,\"#ed7953\"],[0.7777777777777778,\"#fb9f3a\"],[0.8888888888888888,\"#fdca26\"],[1.0,\"#f0f921\"]]}],\"surface\":[{\"type\":\"surface\",\"colorbar\":{\"outlinewidth\":0,\"ticks\":\"\"},\"colorscale\":[[0.0,\"#0d0887\"],[0.1111111111111111,\"#46039f\"],[0.2222222222222222,\"#7201a8\"],[0.3333333333333333,\"#9c179e\"],[0.4444444444444444,\"#bd3786\"],[0.5555555555555556,\"#d8576b\"],[0.6666666666666666,\"#ed7953\"],[0.7777777777777778,\"#fb9f3a\"],[0.8888888888888888,\"#fdca26\"],[1.0,\"#f0f921\"]]}],\"mesh3d\":[{\"type\":\"mesh3d\",\"colorbar\":{\"outlinewidth\":0,\"ticks\":\"\"}}],\"scatter\":[{\"marker\":{\"line\":{\"color\":\"#283442\"}},\"type\":\"scatter\"}],\"parcoords\":[{\"type\":\"parcoords\",\"line\":{\"colorbar\":{\"outlinewidth\":0,\"ticks\":\"\"}}}],\"scatterpolargl\":[{\"type\":\"scatterpolargl\",\"marker\":{\"colorbar\":{\"outlinewidth\":0,\"ticks\":\"\"}}}],\"bar\":[{\"error_x\":{\"color\":\"#f2f5fa\"},\"error_y\":{\"color\":\"#f2f5fa\"},\"marker\":{\"line\":{\"color\":\"rgb(17,17,17)\",\"width\":0.5},\"pattern\":{\"fillmode\":\"overlay\",\"size\":10,\"solidity\":0.2}},\"type\":\"bar\"}],\"scattergeo\":[{\"type\":\"scattergeo\",\"marker\":{\"colorbar\":{\"outlinewidth\":0,\"ticks\":\"\"}}}],\"scatterpolar\":[{\"type\":\"scatterpolar\",\"marker\":{\"colorbar\":{\"outlinewidth\":0,\"ticks\":\"\"}}}],\"histogram\":[{\"marker\":{\"pattern\":{\"fillmode\":\"overlay\",\"size\":10,\"solidity\":0.2}},\"type\":\"histogram\"}],\"scattergl\":[{\"marker\":{\"line\":{\"color\":\"#283442\"}},\"type\":\"scattergl\"}],\"scatter3d\":[{\"type\":\"scatter3d\",\"line\":{\"colorbar\":{\"outlinewidth\":0,\"ticks\":\"\"}},\"marker\":{\"colorbar\":{\"outlinewidth\":0,\"ticks\":\"\"}}}],\"scattermapbox\":[{\"type\":\"scattermapbox\",\"marker\":{\"colorbar\":{\"outlinewidth\":0,\"ticks\":\"\"}}}],\"scatterternary\":[{\"type\":\"scatterternary\",\"marker\":{\"colorbar\":{\"outlinewidth\":0,\"ticks\":\"\"}}}],\"scattercarpet\":[{\"type\":\"scattercarpet\",\"marker\":{\"colorbar\":{\"outlinewidth\":0,\"ticks\":\"\"}}}],\"carpet\":[{\"aaxis\":{\"endlinecolor\":\"#A2B1C6\",\"gridcolor\":\"#506784\",\"linecolor\":\"#506784\",\"minorgridcolor\":\"#506784\",\"startlinecolor\":\"#A2B1C6\"},\"baxis\":{\"endlinecolor\":\"#A2B1C6\",\"gridcolor\":\"#506784\",\"linecolor\":\"#506784\",\"minorgridcolor\":\"#506784\",\"startlinecolor\":\"#A2B1C6\"},\"type\":\"carpet\"}],\"table\":[{\"cells\":{\"fill\":{\"color\":\"#506784\"},\"line\":{\"color\":\"rgb(17,17,17)\"}},\"header\":{\"fill\":{\"color\":\"#2a3f5f\"},\"line\":{\"color\":\"rgb(17,17,17)\"}},\"type\":\"table\"}],\"barpolar\":[{\"marker\":{\"line\":{\"color\":\"rgb(17,17,17)\",\"width\":0.5},\"pattern\":{\"fillmode\":\"overlay\",\"size\":10,\"solidity\":0.2}},\"type\":\"barpolar\"}],\"pie\":[{\"automargin\":true,\"type\":\"pie\"}]},\"layout\":{\"autotypenumbers\":\"strict\",\"colorway\":[\"#636efa\",\"#EF553B\",\"#00cc96\",\"#ab63fa\",\"#FFA15A\",\"#19d3f3\",\"#FF6692\",\"#B6E880\",\"#FF97FF\",\"#FECB52\"],\"font\":{\"color\":\"#f2f5fa\"},\"hovermode\":\"closest\",\"hoverlabel\":{\"align\":\"left\"},\"paper_bgcolor\":\"rgb(17,17,17)\",\"plot_bgcolor\":\"rgb(17,17,17)\",\"polar\":{\"bgcolor\":\"rgb(17,17,17)\",\"angularaxis\":{\"gridcolor\":\"#506784\",\"linecolor\":\"#506784\",\"ticks\":\"\"},\"radialaxis\":{\"gridcolor\":\"#506784\",\"linecolor\":\"#506784\",\"ticks\":\"\"}},\"ternary\":{\"bgcolor\":\"rgb(17,17,17)\",\"aaxis\":{\"gridcolor\":\"#506784\",\"linecolor\":\"#506784\",\"ticks\":\"\"},\"baxis\":{\"gridcolor\":\"#506784\",\"linecolor\":\"#506784\",\"ticks\":\"\"},\"caxis\":{\"gridcolor\":\"#506784\",\"linecolor\":\"#506784\",\"ticks\":\"\"}},\"coloraxis\":{\"colorbar\":{\"outlinewidth\":0,\"ticks\":\"\"}},\"colorscale\":{\"sequential\":[[0.0,\"#0d0887\"],[0.1111111111111111,\"#46039f\"],[0.2222222222222222,\"#7201a8\"],[0.3333333333333333,\"#9c179e\"],[0.4444444444444444,\"#bd3786\"],[0.5555555555555556,\"#d8576b\"],[0.6666666666666666,\"#ed7953\"],[0.7777777777777778,\"#fb9f3a\"],[0.8888888888888888,\"#fdca26\"],[1.0,\"#f0f921\"]],\"sequentialminus\":[[0.0,\"#0d0887\"],[0.1111111111111111,\"#46039f\"],[0.2222222222222222,\"#7201a8\"],[0.3333333333333333,\"#9c179e\"],[0.4444444444444444,\"#bd3786\"],[0.5555555555555556,\"#d8576b\"],[0.6666666666666666,\"#ed7953\"],[0.7777777777777778,\"#fb9f3a\"],[0.8888888888888888,\"#fdca26\"],[1.0,\"#f0f921\"]],\"diverging\":[[0,\"#8e0152\"],[0.1,\"#c51b7d\"],[0.2,\"#de77ae\"],[0.3,\"#f1b6da\"],[0.4,\"#fde0ef\"],[0.5,\"#f7f7f7\"],[0.6,\"#e6f5d0\"],[0.7,\"#b8e186\"],[0.8,\"#7fbc41\"],[0.9,\"#4d9221\"],[1,\"#276419\"]]},\"xaxis\":{\"gridcolor\":\"#283442\",\"linecolor\":\"#506784\",\"ticks\":\"\",\"title\":{\"standoff\":15},\"zerolinecolor\":\"#283442\",\"automargin\":true,\"zerolinewidth\":2},\"yaxis\":{\"gridcolor\":\"#283442\",\"linecolor\":\"#506784\",\"ticks\":\"\",\"title\":{\"standoff\":15},\"zerolinecolor\":\"#283442\",\"automargin\":true,\"zerolinewidth\":2},\"scene\":{\"xaxis\":{\"backgroundcolor\":\"rgb(17,17,17)\",\"gridcolor\":\"#506784\",\"linecolor\":\"#506784\",\"showbackground\":true,\"ticks\":\"\",\"zerolinecolor\":\"#C8D4E3\",\"gridwidth\":2},\"yaxis\":{\"backgroundcolor\":\"rgb(17,17,17)\",\"gridcolor\":\"#506784\",\"linecolor\":\"#506784\",\"showbackground\":true,\"ticks\":\"\",\"zerolinecolor\":\"#C8D4E3\",\"gridwidth\":2},\"zaxis\":{\"backgroundcolor\":\"rgb(17,17,17)\",\"gridcolor\":\"#506784\",\"linecolor\":\"#506784\",\"showbackground\":true,\"ticks\":\"\",\"zerolinecolor\":\"#C8D4E3\",\"gridwidth\":2}},\"shapedefaults\":{\"line\":{\"color\":\"#f2f5fa\"}},\"annotationdefaults\":{\"arrowcolor\":\"#f2f5fa\",\"arrowhead\":0,\"arrowwidth\":1},\"geo\":{\"bgcolor\":\"rgb(17,17,17)\",\"landcolor\":\"rgb(17,17,17)\",\"subunitcolor\":\"#506784\",\"showland\":true,\"showlakes\":true,\"lakecolor\":\"rgb(17,17,17)\"},\"title\":{\"x\":0.05},\"updatemenudefaults\":{\"bgcolor\":\"#506784\",\"borderwidth\":0},\"sliderdefaults\":{\"bgcolor\":\"#C8D4E3\",\"borderwidth\":1,\"bordercolor\":\"rgb(17,17,17)\",\"tickwidth\":0},\"mapbox\":{\"style\":\"dark\"}}},\"xaxis\":{\"anchor\":\"y\",\"domain\":[0.0,1.0],\"title\":{\"text\":\"Year\"}},\"yaxis\":{\"anchor\":\"x\",\"domain\":[0.0,1.0],\"title\":{\"text\":\"Number of Women\"}},\"legend\":{\"tracegroupgap\":0},\"title\":{\"text\":\"Number of Women in Each Year of the Winter Olympics\"},\"barmode\":\"relative\"},                        {\"responsive\": true}                    ).then(function(){\n",
       "                            \n",
       "var gd = document.getElementById('3c51331c-383f-4341-8f3c-7eb15ca3cd78');\n",
       "var x = new MutationObserver(function (mutations, observer) {{\n",
       "        var display = window.getComputedStyle(gd).display;\n",
       "        if (!display || display === 'none') {{\n",
       "            console.log([gd, 'removed!']);\n",
       "            Plotly.purge(gd);\n",
       "            observer.disconnect();\n",
       "        }}\n",
       "}});\n",
       "\n",
       "// Listen for the removal of the full notebook cells\n",
       "var notebookContainer = gd.closest('#notebook-container');\n",
       "if (notebookContainer) {{\n",
       "    x.observe(notebookContainer, {childList: true});\n",
       "}}\n",
       "\n",
       "// Listen for the clearing of the current output cell\n",
       "var outputEl = gd.closest('.output');\n",
       "if (outputEl) {{\n",
       "    x.observe(outputEl, {childList: true});\n",
       "}}\n",
       "\n",
       "                        })                };                });            </script>        </div>"
      ]
     },
     "metadata": {},
     "output_type": "display_data"
    }
   ],
   "source": [
    "# i) The progression of how many female olympic sports participants there are over the years and seasons\n",
    "\n",
    "women_summer_df = merged_df[(merged_df['Sex'] == 'F') & (merged_df['Season'] == 'Summer')]\n",
    "\n",
    "# Count the number of women in each year for Summer Olympics\n",
    "women_summer_per_year = women_summer_df.groupby('Year').size().reset_index(name='Number of Women')\n",
    "\n",
    "women_winter_df = merged_df[(merged_df['Sex'] == 'F') & (merged_df['Season'] == 'Winter')]\n",
    "\n",
    "# Count the number of women in each year for Winter Olympics\n",
    "women_winter_per_year = women_winter_df.groupby('Year').size().reset_index(name='Number of Women')\n",
    "\n",
    "fig_summer = px.bar(women_summer_per_year, x='Year', y='Number of Women',\n",
    "                    title='Number of Women in Each Year of the Summer Olympics',\n",
    "                    labels={'Number of Women': 'Number of Women', 'Year': 'Year'})\n",
    "\n",
    "fig_winter = px.bar(women_winter_per_year, x='Year', y='Number of Women',\n",
    "                    title='Number of Women in Each Year of the Winter Olympics',\n",
    "                    labels={'Number of Women': 'Number of Women', 'Year': 'Year'})\n",
    "\n",
    "# Show the interactive graphs\n",
    "fig_summer.show()\n",
    "fig_winter.show()   "
   ]
  },
  {
   "cell_type": "code",
<<<<<<< HEAD
   "execution_count": 10,
   "id": "d3e58c88c302b6f4",
   "metadata": {
    "collapsed": false
   },
   "outputs": [
    {
     "name": "stdout",
     "output_type": "stream",
     "text": [
      "0                  A Dijiang\n",
      "1                   A Lamusi\n",
      "2              Abudoureheman\n",
      "3                  Ai Linuer\n",
      "4                  Ai Yanhan\n",
      "                 ...        \n",
      "270762       Mamorallo Tjoka\n",
      "270763       Mamorallo Tjoka\n",
      "270764    M'apotlaki Ts'elho\n",
      "270765            Lefa Tsapi\n",
      "270766         Mosolesa Tsie\n",
      "Name: Name, Length: 270767, dtype: object\n",
      "0         3a4eef48434c66b3f14ab0221f6762d0ef7c6135ab2790...\n",
      "1         a6430cc6630934275dc6283f7e97e9625e6587cdddec7a...\n",
      "2         1b3608c7e8006309deaeae26a9b7461b0d92f4c26b98ad...\n",
      "3         f941f6fbfcf284d4a16b4e1b2513ddab5c0e48138f871e...\n",
      "4         b83a05b6351ae6d539094448c89c6e68c94af8ca0635d6...\n",
      "                                ...                        \n",
      "270762    36531c238e3d1db3d1fb45af9b349f490ef97fe93db21c...\n",
      "270763    36531c238e3d1db3d1fb45af9b349f490ef97fe93db21c...\n",
      "270764    c0e689e1bac2a68712990e31a24ea7d074126e2e6b0169...\n",
      "270765    0a1bedbfbc053854ab7470a7ab78913fb4cd7d6f73dd3e...\n",
      "270766    197195dcd1fb7d490a4238db4da4271ae084ac8a995572...\n",
      "Name: hashed_Name, Length: 270767, dtype: object\n"
     ]
    }
   ],
   "source": [
    "#  Uppgift 1 ) Anonymisera kolumnen med idrottarnas namn med hashfunktionen SHA-256.\n",
    "\n",
    "import hashlib as hl\n",
    "print(merged_df['Name'])\n",
    "def hash_name(name):\n",
    "    return hl.sha256(name.encode()).hexdigest()\n",
    "merged_df['hashed_Name'] = merged_df['Name'].apply(hash_name)\n",
    "print(merged_df['hashed_Name'])"
   ]
  },
  {
   "cell_type": "code",
   "execution_count": 11,
   "metadata": {},
   "outputs": [
    {
     "data": {
      "image/png": "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",
      "text/plain": [
       "<Figure size 1000x600 with 1 Axes>"
      ]
     },
     "metadata": {},
     "output_type": "display_data"
    }
   ],
   "source": [
    "# Uppgift 1 ) De sporter som Kanada fått flest medaljer i.\n",
    "\n",
    "df_canada = merged_df[merged_df['Team'] == 'Canada']\n",
    "canada_sport_medals = df_canada.groupby('Sport')['Medal'].count().sort_values(ascending=False).head(15)\n",
    "\n",
    "plt.figure(figsize=(10, 6))\n",
    "canada_sport_medals.plot(kind='bar', color='skyblue')\n",
    "plt.title('Antal medaljer per sport för Kanada i OS')\n",
    "plt.xlabel('Sport')\n",
    "plt.ylabel('Antal medaljer')\n",
    "plt.show()"
   ]
  },
  {
   "cell_type": "code",
   "execution_count": 12,
   "metadata": {},
   "outputs": [
    {
     "data": {
      "image/png": "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",
      "text/plain": [
       "<Figure size 1000x600 with 1 Axes>"
      ]
     },
     "metadata": {},
     "output_type": "display_data"
    }
   ],
   "source": [
    "# Uppgift 1 ) Antal medaljer per OS för Kanada.\n",
    "medals_per_os = df_canada.groupby('Year')['Medal'].count()\n",
    "\n",
    "plt.figure(figsize=(10, 6))\n",
    "medals_per_os.plot(kind='bar', color='gold')\n",
    "plt.title('Antal medaljer per OS för Kanada')\n",
    "plt.xlabel('År')\n",
    "plt.ylabel('Antal medaljer')\n",
    "plt.show()"
=======
   "execution_count": null,
   "metadata": {},
   "outputs": [],
   "source": [
    "import pandas as pd\n",
    "import hashlib as hl\n",
    "import matplotlib.pyplot as plt\n",
    "\n",
    "\n",
    "NOC = pd.read_csv('noc_regions.csv')\n",
    "athlete_events = pd.read_csv('athlete_events.csv')\n",
    "olympic_df = athlete_events.merge(NOC, on=\"NOC\", how=\"inner\")\n",
    "\n",
    "\n",
    "olympic_df = olympic_df.copy()\n",
    "olympic_df[\"Name\"] = olympic_df[\"Name\"].apply(lambda name: hl.sha256(name.encode()).hexdigest()).str[:6]\n"
>>>>>>> parent of 774c129 (Revert "Judo")
   ]
  },
  {
   "cell_type": "code",
<<<<<<< HEAD
   "execution_count": 13,
   "metadata": {},
   "outputs": [
    {
     "data": {
      "image/png": "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",
      "text/plain": [
       "<Figure size 1000x600 with 1 Axes>"
      ]
     },
     "metadata": {},
     "output_type": "display_data"
    }
   ],
   "source": [
    "# Uppgift 1 ) Histogram över åldrar för Kanadas OS-deltagare.\n",
    "plt.figure(figsize=(10, 6))\n",
    "plt.hist(df_canada['Age'].dropna(), bins=20, edgecolor='black')\n",
    "plt.title('Histogram över åldrar för Kanadas OS-deltagare')\n",
    "plt.xlabel('Ålder')\n",
    "plt.ylabel('Antal deltagare')\n",
    "plt.grid(axis='y', alpha=0.75)\n",
    "plt.show()"
=======
   "execution_count": null,
   "metadata": {},
   "outputs": [],
   "source": [
    "# Top judo nations\n",
    "medals = [\"Gold\", \"Silver\", \"Bronze\"]\n",
    "judo_medalists = olympic_df.query(\"Sport == 'Judo' & Medal == @medals\")\n",
    "\n",
    "medals_by_region = judo_medalists[\"region\"].value_counts()\n",
    "top_10_countries = medals_by_region.head(10).index\n",
    "top_country_athletes = judo_medalists[judo_medalists[\"region\"].isin(top_10_countries)]\n",
    "\n",
    "canada_judo_medalists = judo_medalists.query(\"region == 'Canada'\")\n",
    "canada_medals = canada_judo_medalists.groupby(\"region\")[\"Medal\"].count()\n",
    "\n",
    "athletes_top_11 = pd.concat([top_country_athletes, canada_judo_medalists])\n",
    "top_11_region_medal_count = athletes_top_11.groupby([\"region\", \"Medal\"], as_index=False).count().sort_values(by=['region', \"ID\"], ascending=False)\n"
>>>>>>> parent of 774c129 (Revert "Judo")
   ]
  },
  {
   "cell_type": "code",
<<<<<<< HEAD
   "execution_count": 14,
   "metadata": {},
   "outputs": [
    {
     "data": {
      "image/png": "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",
      "text/plain": [
       "<Figure size 640x480 with 1 Axes>"
      ]
     },
     "metadata": {},
     "output_type": "display_data"
    }
   ],
   "source": [
    "# Uppgift 2 ) Simmning: Åldersfördelning.\n",
    "swimming_age = merged_df[merged_df['Sport'] == 'Swimming']['Age'].value_counts().head(30)\n",
    "swimming_age.index = swimming_age.index.astype(int)\n",
    "swimming_age = swimming_age.astype(int)\n",
    "swimming_age = swimming_age.sort_index()\n",
    "swimming_age.plot(kind='bar', title='Åldersfördelning i simning')\n",
    "plt.xlabel('Ålder')\n",
    "plt.ylabel('Antal deltagare')\n",
    "plt.show()"
=======
   "execution_count": null,
   "metadata": {},
   "outputs": [],
   "source": [
    "#Medaljer efter land\n",
    "\n",
    "top_10_judoka_names = top_country_athletes.groupby(\"Name\")[\"Medal\"].count().sort_values(ascending=False).head(10).index\n",
    "top_10_judokas = judo_medalists[judo_medalists[\"Name\"].isin(top_10_judoka_names)]\n",
    "\n",
    "top_canadian_judoka_name = judo_medalists.query(\"region == 'Canada'\").groupby(\"Name\")[\"Medal\"].count().sort_values(ascending=False).head(1).index\n",
    "top_canadian_judoka = judo_medalists[judo_medalists[\"Name\"].isin(top_canadian_judoka_name)]\n",
    "\n",
    "top_11_judokas = pd.concat([top_10_judokas, top_canadian_judoka])\n",
    "\n",
    "\n",
    "by_region_and_name = top_11_judokas.groupby([\"region\", \"Sex\", \"Medal\"])[\"Name\"].value_counts().reset_index()\n"
>>>>>>> parent of 774c129 (Revert "Judo")
   ]
  },
  {
   "cell_type": "code",
<<<<<<< HEAD
   "execution_count": 15,
   "metadata": {},
   "outputs": [
    {
     "data": {
      "image/png": "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",
      "text/plain": [
       "<Figure size 640x480 with 1 Axes>"
      ]
     },
     "metadata": {},
     "output_type": "display_data"
    }
   ],
   "source": [
    "# Uppgift 2 ) Simmning: Medaljfördelning mellan länder.\n",
    "swimming_medal = merged_df[merged_df['Sport'] == 'Swimming'].groupby('region')['Medal'].count().sort_values(ascending=False).head(10)\n",
    "swimming_medal.plot(kind='bar', title='Medaljfördelning mellan länder i simmning')\n",
    "plt.show()"
=======
   "execution_count": null,
   "metadata": {},
   "outputs": [],
   "source": [
    "#Titelförsvar\n",
    "gold_judokas = judo_medalists.query(\"Medal == 'Gold'\")[[\"Name\", \"region\", \"Sex\", \"Year\", \"Medal\"]]\n",
    "\n",
    "gold_years = gold_judokas.drop_duplicates(subset=['Name', 'Year']).sort_values(by=[\"Name\",\"Year\"])\n",
    "gold_years.loc[:,'difference'] = gold_years.groupby(\"Name\")['Year'].diff()\n",
    "title_defences = gold_years.groupby([\"Name\", \"region\", \"Sex\"])[\"Medal\"].value_counts()-1\n",
    "\n",
    "title_defences = title_defences.sort_values(ascending=False).reset_index(name=\"count\").head(12)\n"
   ]
  },
  {
   "cell_type": "code",
   "execution_count": null,
   "metadata": {},
   "outputs": [],
   "source": [
    "#Historisk data\n",
    "def insert_new_row(group, new_row_data): #Chat GPT \n",
    "    new_row_data['region'] = group['region'].iloc[0]\n",
    "    new_row = pd.DataFrame([new_row_data])\n",
    "    return pd.concat([group, new_row])\n",
    "\n",
    "\n",
    "medals_per_year = judo_medalists.groupby([\"region\", \"Year\"],as_index=False)[\"Medal\"].count().sort_values(by=\"Year\")\n",
    "medals_per_year['cumulative_sum'] = medals_per_year.groupby(['region'])['Medal'].cumsum()\n",
    "\n",
    "\n",
    "new_row_data = [{'region': 'None', 'Year': år} for år in [1964, 1972, 1976, 1980, 1984, 1988, 1992, 1996, 2000, 2004, 2008, 2012, 2016]]\n",
    "for row_data in new_row_data:\n",
    "    medals_per_year = medals_per_year.groupby('region', group_keys=False).apply(lambda group: insert_new_row(group, row_data))\n",
    "\n",
    "\n",
    "medals_per_year = medals_per_year.drop_duplicates(subset=[\"region\",'Year'], keep='first')\n",
    "medals_per_year = medals_per_year[medals_per_year.columns].sort_values(by=\"Year\", ascending=True).groupby('region')[medals_per_year.columns].ffill().fillna(0)\n"
   ]
  },
  {
   "cell_type": "code",
   "execution_count": null,
   "metadata": {},
   "outputs": [],
   "source": [
    "from dash import Dash, html, dcc, callback, Output, Input\n",
    "import dash_bootstrap_components as dbc\n",
    "import plotly_express as px\n",
    "import pandas as pd\n",
    "\n",
    "olympic_df\n"
   ]
  },
  {
   "cell_type": "code",
   "execution_count": null,
   "metadata": {},
   "outputs": [],
   "source": [
    "def top_judo_nations():\n",
    "\n",
    "    fig = px.bar(top_11_region_medal_count, x=\"region\", y=\"ID\",\n",
    "                    color=\"Medal\", \n",
    "                    color_discrete_map={ \"Gold\": '#edc240', \"Silver\":'#949085', \"Bronze\":'#85723c'}, #Stackoverflow\n",
    "                    template=\"simple_white\", \n",
    "                    title=\"Top 10 judonationer (+ Kanada)\",\n",
    "                    labels=dict(ID=\"Antal medaljer\", region=\"Land\")\n",
    "                )\n",
    "\n",
    "    fig.update_layout(xaxis={'categoryorder':'total descending'}, #Stack overflow\n",
    "                    legend_title=\"Medaljer\",\n",
    "                    legend_traceorder='reversed'\n",
    "                    )\n",
    "\n",
    "    medaljer = {\"Gold\":\"Guld\", \"Silver\":\"Silver\", \"Bronze\": \"Brons\"} #Stackoverflow\n",
    "    fig.for_each_trace(lambda t: t.update(name = medaljer[t.name])) #https://stackoverflow.com/questions/61750215/plotly-how-to-change-legend-item-names\n",
    "\n",
    "    return fig\n",
    "\n",
    "def top_judokas():\n",
    "    fig = px.bar(by_region_and_name, \n",
    "                x=\"Name\", y=\"count\", \n",
    "                color=\"Medal\",\n",
    "                title=\"Framgångsrikaste Judokas\", \n",
    "                labels=dict(count=\"Medaljer\", region=\"Land\", Name=\"Namn\"), \n",
    "                hover_data=dict(Sex=True, region=True), template=\"simple_white\",\n",
    "                color_discrete_map={ \"Gold\": '#edc240', \"Silver\":'#949085', \"Bronze\":'#85723c'})\n",
    "\n",
    "    fig.update_layout(\n",
    "                    legend_traceorder='reversed',\n",
    "                    xaxis={'categoryorder':'total descending'})\n",
    "    \n",
    "    fig.update_xaxes(tickangle=45) #https://stackoverflow.com/questions/68400851/how-to-rotate-xtick-label-bar-chart-plotly-express\n",
    "\n",
    "    return fig\n",
    "\n",
    "def top_defenders():\n",
    "    \n",
    "    fig = px.bar(title_defences, \n",
    "        x=\"Name\", y=\"count\", \n",
    "        barmode=\"group\", color=\"region\", \n",
    "        labels=dict(count=\"Antal titelförsvar\", Name=\"Namn\", region=\"Land\"), \n",
    "        hover_data=dict(Name=False),\n",
    "        template=\"simple_white\")\n",
    "    fig.update_traces(width=0.75)\n",
    "\n",
    "\n",
    "    fig.update_xaxes(tickangle=45) #https://stackoverflow.com/questions/68400851/how-to-rotate-xtick-label-bar-chart-plotly-express\n",
    "\n",
    "\n",
    "    return fig\n",
    "\n",
    "\n",
    "# # # # # # # # # # # # # # # # # # # # # # # # # # # # # # # # # # # # # # # # # # # # # # # # \n",
    "app = Dash(\n",
    "    __name__, \n",
    "    external_stylesheets=[dbc.themes.FLATLY],\n",
    "    meta_tags=[{\"name\":\"viewport\", \"content\":\"width=device-width, initial-scale=1\"}]\n",
    "    )\n",
    "\n",
    "\n",
    "# # # # # # # # # # # # # # # # # # # # # # # # # # # # # # # # # # # # # # # # # # # # # # # # \n",
    "app.layout = dbc.Container([\n",
    "\n",
    "    dbc.Row([ #row 1\n",
    "\n",
    "        dbc.Col([ #column 1.1\n",
    "\n",
    "            html.H1(\"Judo\", id='judo_dashboard_intro', className='text-center text-primary mt-3'),\n",
    "            dcc.Graph(id=\"top_11_chart\", figure = top_judo_nations())\n",
    "\n",
    "                ], width=12)\n",
    "            ]),\n",
    "\n",
    "# # # # # # # # # # # # # # # # # # # # # # # # \n",
    "    dbc.Row([ #row 2\n",
    "        html.H4(\"Top judokas & titelförsvarare\", id='judokas_and_title_defence', className='text-center text-primary mt-3'),\n",
    "\n",
    "        dbc.Col([ #column 2.1\n",
    "\n",
    "            dcc.Graph(\n",
    "                id='judokas_chart',\n",
    "                figure = top_judokas())\n",
    "\n",
    "        ], width=6),\n",
    "    \n",
    "# # # # # # # # # # # \n",
    "\n",
    "        dbc.Col([ #column 2.2\n",
    "\n",
    "            dcc.Graph(\n",
    "                id='title_defences_chart',\n",
    "                figure = top_defenders())\n",
    "\n",
    "        ], width=6)\n",
    "\n",
    "    ]),\n",
    "\n",
    "# # # # # # # # # # # # # # # # # # # # # # # # \n",
    "    dbc.Row([ #row 3\n",
    "        dbc.Col([ #column 3.1\n",
    "\n",
    "            html.H4(\"Medaljer genom historien\", id='historical_chart_header', className='text-center text-primary mt-3'),\n",
    "            dcc.Dropdown(id='multi_dropdown_historical_chart', multi=True, className='mb-2',\n",
    "                options=[country for country in medals_per_year[\"region\"].unique()],\n",
    "                style={'color': '#333'}\n",
    "            ),\n",
    "\n",
    "            dcc.Graph(id='historical_chart',\n",
    "                figure={})\n",
    "\n",
    "                ], width=12)\n",
    "            ],justify=\"evenly\"),\n",
    "\n",
    "])\n",
    "\n",
    "\n",
    "@callback(\n",
    "    Output('historical_chart', 'figure'),\n",
    "    Input('multi_dropdown_historical_chart', 'value')\n",
    ")\n",
    "def update_historical_chart(regions):\n",
    "    if regions is None: regions = [] \n",
    "    df = medals_per_year[medals_per_year[\"region\"].isin(regions)]\n",
    "\n",
    "    fig = px.bar(df,\n",
    "            x=\"region\", y=\"cumulative_sum\",\n",
    "            range_y=[0,90],\n",
    "            animation_frame=\"Year\", animation_group=\"region\",\n",
    "            color=\"region\",\n",
    "            hover_name=\"region\",\n",
    "            hover_data=dict(region=False, Year=False, Medal=True),\n",
    "            labels=dict(cumulative_sum=\"Totalt antal medaljer\", region=\"Land\")\n",
    "            )\n",
    "\n",
    "    fig.update_layout(xaxis={'categoryorder':'total descending'}) #Stack overflow\n",
    "    fig.layout.updatemenus[0].buttons[0].args[1][\"frame\"][\"duration\"] = 1500 #Stackoverflow\n",
    "\n",
    "    return fig\n",
    "\n",
    "\n",
    "\n",
    "\n",
    "if (__name__) == \"__main__\":\n",
    "    app.run(debug=True, jupyter_mode='external')\n",
    "\n",
    "\n",
    "\n"
>>>>>>> parent of 774c129 (Revert "Judo")
   ]
  }
 ],
 "metadata": {
  "kernelspec": {
   "display_name": "Python 3",
   "language": "python",
   "name": "python3"
  },
  "language_info": {
   "codemirror_mode": {
    "name": "ipython",
    "version": 3
   },
   "file_extension": ".py",
   "mimetype": "text/x-python",
   "name": "python",
   "nbconvert_exporter": "python",
   "pygments_lexer": "ipython3",
   "version": "3.11.5"
  }
 },
 "nbformat": 4,
 "nbformat_minor": 5
}
